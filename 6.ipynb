{
 "cells": [
  {
   "cell_type": "code",
   "execution_count": 1,
   "metadata": {
    "collapsed": true
   },
   "outputs": [],
   "source": [
    "import bisect\n",
    "import sys\n",
    "from test_functions import test_functions\n",
    "import numpy as np\n",
    "import matplotlib.pyplot as plt\n",
    "from tqdm import tqdm\n",
    "rec = 100000\n",
    "sys.setrecursionlimit(rec)"
   ]
  },
  {
   "cell_type": "code",
   "execution_count": 11,
   "outputs": [],
   "source": [
    "def func_1(x, n):\n",
    "    return sum(100 * ((x[0] - x[1]) ** 2) + 5 * (1 - x[j]) ** 2 for j in range(1, n))\n",
    "\n",
    "def func_1_grad(x, n):\n",
    "    result = x * 10 - 10\n",
    "    result[0], result[1] = 200 * x[0] - 200 * x[1], -200 * x[0] + 210 * x[1] - 10\n",
    "    return np.array(result)\n",
    "\n",
    "def func_2(x_1, x_2):\n",
    "    return 100 * (x_2 - x_1 ** 2) ** 2 + 5 * (1 - x_1) ** 2\n",
    "\n",
    "def func_2_grad(x_1, x_2):\n",
    "    return (10 * (40 * x_1 ** 3 - 40 * x_1 * x_2 + x_1 - 1), 200 * (x_2 - x_1 ** 2))"
   ],
   "metadata": {
    "collapsed": false,
    "pycharm": {
     "name": "#%%\n"
    }
   }
  },
  {
   "cell_type": "code",
   "execution_count": 25,
   "outputs": [],
   "source": [
    "def golden_1(f, b, a, c1, c2, epsilon = 10 ** (-12)):\n",
    "\n",
    "    phi = (1 + (5 ** 1 / 2)) / 2\n",
    "    c, d = b - (b - a) / phi, a + (b - a) / phi\n",
    "    while abs(b - a) > epsilon:\n",
    "        if f(c, c1, c2) < f(d, c1, c2):\n",
    "            b = d\n",
    "        else:\n",
    "            a = c\n",
    "\n",
    "        c = b - (b - a) / phi\n",
    "        d = a + (b - a) / phi\n",
    "\n",
    "    return (a + b) / 2"
   ],
   "metadata": {
    "collapsed": false,
    "pycharm": {
     "name": "#%%\n"
    }
   }
  },
  {
   "cell_type": "code",
   "execution_count": 26,
   "outputs": [],
   "source": [
    "def golden_2(f, b, a, c1, c2, c3, c4, epsilon = 10 ** (-12)):\n",
    "    phi = (1 + (5 ** 1 / 2)) / 2\n",
    "    c, d = b - (b - a) / phi, a + (b - a) / phi\n",
    "    while abs(b - a) > epsilon:\n",
    "        if f(c, c1, c2, c3, c4) < f(d, c1, c2, c3, c4):\n",
    "            b = d\n",
    "        else:\n",
    "            a = c\n",
    "\n",
    "        c = b - (b - a) / phi\n",
    "        d = a + (b - a) / phi\n",
    "\n",
    "    return (a + b) / 2"
   ],
   "metadata": {
    "collapsed": false,
    "pycharm": {
     "name": "#%%\n"
    }
   }
  },
  {
   "cell_type": "code",
   "execution_count": 27,
   "outputs": [],
   "source": [
    "def grad_1(f, fgrad, x, case, counter):\n",
    "\n",
    "    n = len(x)\n",
    "    start = f(x, n)\n",
    "    counter += 1\n",
    "    fdot = fgrad(x, n)\n",
    "    c1, c2 = x, fdot\n",
    "    def f_one(h, c1, c2):\n",
    "        return f(c1 - h * c2, n)\n",
    "\n",
    "    if case == 1:\n",
    "        b, a = 100000, 0\n",
    "        h = golden_1(f_one, b, a, c1, c2)\n",
    "\n",
    "    elif case == 2:\n",
    "        h = 0.001\n",
    "\n",
    "    else:\n",
    "        alpha = 0.01\n",
    "        h = 1\n",
    "        q = 0.8\n",
    "        while f(x - h * fdot, n) > f(x, n) - alpha * h * np.linalg.norm(fdot):\n",
    "            h = q * h\n",
    "\n",
    "\n",
    "    finish = f(x - h * fdot, n)\n",
    "    if abs(start - finish) < 10 ** (-6):\n",
    "        return x, finish, counter\n",
    "\n",
    "    return grad_1(f, fgrad, x - h * fdot, case, counter)"
   ],
   "metadata": {
    "collapsed": false,
    "pycharm": {
     "name": "#%%\n"
    }
   }
  },
  {
   "cell_type": "code",
   "execution_count": 32,
   "outputs": [],
   "source": [
    "def grad_2(f, fgrad, x_1, x_2, x_s, y_s, case, counter):\n",
    "\n",
    "    start = f(x_1, x_2)\n",
    "    counter += 1\n",
    "    fdot1, fdot2 = fgrad(x_1, x_2)\n",
    "    c1, c2, c3, c4 = x_1, fdot1, x_2, fdot2\n",
    "\n",
    "    def f_one(h, c1, c2, c3, c4):\n",
    "        return f(c1 - h * c2, c3 - h * c4)\n",
    "\n",
    "    if case == 1:\n",
    "        b, a = 100000, 0\n",
    "        h = golden_2(f_one, b, a, c1, c2, c3, c4)\n",
    "\n",
    "    elif case == 2:\n",
    "        h = 0.001\n",
    "\n",
    "    else:\n",
    "        alpha = 0.01\n",
    "        h = 1\n",
    "        q = 0.8\n",
    "        while f(x_1 - h * fdot1, x_2 - h * fdot2) > f(x_1, x_2) - alpha * h * (fdot1 ** 2 + fdot2 ** 2) ** (1/2):\n",
    "            h = q * h\n",
    "\n",
    "\n",
    "    finish = f(x_1 - h * fdot1, x_2 - h * fdot2)\n",
    "    x_s.append(x_1 - h * fdot1), y_s.append(x_2 - h * fdot2)\n",
    "    if abs(start - finish) < 10 ** (-12):\n",
    "        return x_1, x_2, finish, counter\n",
    "\n",
    "    return grad_2(f, fgrad, x_1 - h * fdot1, x_2 - h * fdot2, x_s, y_s, case, counter)"
   ],
   "metadata": {
    "collapsed": false,
    "pycharm": {
     "name": "#%%\n"
    }
   }
  },
  {
   "cell_type": "code",
   "execution_count": 33,
   "outputs": [
    {
     "name": "stdout",
     "output_type": "stream",
     "text": [
      "Dimension: 2\n",
      "counters 255\n",
      "counters 1092\n",
      "counters 253\n",
      "\n",
      "\n",
      "Dimension: 3\n",
      "counters 57\n",
      "counters 1093\n",
      "counters 227\n",
      "\n",
      "\n",
      "Dimension: 5\n",
      "counters 74\n",
      "counters 1095\n",
      "counters 186\n",
      "\n",
      "\n",
      "Dimension: 10\n",
      "counters 11\n",
      "counters 1101\n",
      "counters 131\n",
      "\n",
      "\n"
     ]
    }
   ],
   "source": [
    "for n in (2, 3, 5, 10):\n",
    "    print(\"Dimension:\", n)\n",
    "    for case in (1, 2, 3):\n",
    "        counter = 0\n",
    "        x = np.array([0] * n)\n",
    "        result = grad_1(func_1, func_1_grad, x, case, counter)\n",
    "        #print(result)\n",
    "        print(\"counters\", result[2])\n",
    "        if case == 3:\n",
    "            print('\\n')"
   ],
   "metadata": {
    "collapsed": false,
    "pycharm": {
     "name": "#%%\n"
    }
   }
  },
  {
   "cell_type": "code",
   "execution_count": 13,
   "outputs": [
    {
     "name": "stdout",
     "output_type": "stream",
     "text": [
      "(0.9960025353944634, 0.9920210446753017, 7.890451457288872e-05, 653)\n"
     ]
    },
    {
     "data": {
      "text/plain": "<Figure size 432x288 with 1 Axes>",
      "image/png": "[encoded data removed]"
     },
     "metadata": {
      "needs_background": "light"
     },
     "output_type": "display_data"
    },
    {
     "name": "stdout",
     "output_type": "stream",
     "text": [
      "(0.9929656557355789, 0.9858392230049502, 0.0002484143440323109, 1899)\n"
     ]
    },
    {
     "data": {
      "text/plain": "<Figure size 432x288 with 1 Axes>",
      "image/png": "[encoded data removed]"
     },
     "metadata": {
      "needs_background": "light"
     },
     "output_type": "display_data"
    },
    {
     "name": "stdout",
     "output_type": "stream",
     "text": [
      "(0.9945409175790455, 0.9889320621095726, 0.00015125359524806604, 862)\n"
     ]
    },
    {
     "data": {
      "text/plain": "<Figure size 432x288 with 1 Axes>",
      "image/png": "[encoded data removed]"
     },
     "metadata": {
      "needs_background": "light"
     },
     "output_type": "display_data"
    }
   ],
   "source": [
    "start_1, start_2 = 0, 0\n",
    "for case in (1, 2, 3):\n",
    "    counter = 0\n",
    "    x_s = [start_1]\n",
    "    y_s = [start_2]\n",
    "    result = grad_2(func_2, func_2_grad, start_1, start_2, x_s, y_s, case, counter)\n",
    "    print(result)\n",
    "    plt.plot(x_s, y_s)\n",
    "    plt.show()"
   ],
   "metadata": {
    "collapsed": false,
    "pycharm": {
     "name": "#%%\n"
    }
   }
  },
  {
   "cell_type": "code",
   "execution_count": 36,
   "outputs": [],
   "source": [],
   "metadata": {
    "collapsed": false,
    "pycharm": {
     "name": "#%%\n"
    }
   }
  },
  {
   "cell_type": "code",
   "execution_count": null,
   "outputs": [],
   "source": [],
   "metadata": {
    "collapsed": false,
    "pycharm": {
     "name": "#%%\n"
    }
   }
  }
 ],
 "metadata": {
  "kernelspec": {
   "display_name": "Python 3",
   "language": "python",
   "name": "python3"
  },
  "language_info": {
   "codemirror_mode": {
    "name": "ipython",
    "version": 2
   },
   "file_extension": ".py",
   "mimetype": "text/x-python",
   "name": "python",
   "nbconvert_exporter": "python",
   "pygments_lexer": "ipython2",
   "version": "2.7.6"
  }
 },
 "nbformat": 4,
 "nbformat_minor": 0
}