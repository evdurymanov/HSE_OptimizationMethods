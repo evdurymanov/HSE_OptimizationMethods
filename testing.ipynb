{
 "cells": [
  {
   "cell_type": "code",
   "execution_count": 1,
   "outputs": [],
   "source": [
    "import bisect\n",
    "import sys\n",
    "from test_functions import test_functions\n",
    "import numpy as np\n",
    "import matplotlib.pyplot as plt\n",
    "from tqdm import tqdm\n",
    "rec = 100000\n",
    "sys.setrecursionlimit(rec)"
   ],
   "metadata": {
    "collapsed": false,
    "pycharm": {
     "name": "#%%\n"
    }
   }
  },
  {
   "cell_type": "code",
   "execution_count": 2,
   "outputs": [],
   "source": [
    "def i_ng_1(func, dots, counter, H_max_index, tau = 2):\n",
    "    max_value, max_index = max([(y, -i) for i, (x, y, h) in enumerate(dots)])\n",
    "    if abs(dots[max_index][0] - dots[max_index + 1][0]) < epsilon:\n",
    "        func_values = [func(x) for (x, y) in dots]\n",
    "        return min(func_values), counter, dots[H_max_index][2]\n",
    "    L = 1 if dots[H_max_index][2] == 0 else tau * dots[H_max_index][2]\n",
    "    counter += 1\n",
    "    new_dot = (dots[max_index][0] + dots[max_index + 1][0]) / 2 - \\\n",
    "              (func(dots[max_index + 1][0]) - func(dots[max_index][0])) / (2 * L)\n",
    "    new_index = bisect.bisect_left(dots, (new_dot, 0))\n",
    "    bisect.insort_left(dots, (new_dot, 0))\n",
    "    H_1 = abs(func(dots[new_index][0]) - func(dots[new_index - 1][0])) / (dots[new_index][0] - dots[new_index - 1][0])\n",
    "    H_2 = abs(func(dots[new_index + 1][0]) - func(dots[new_index][0])) / (dots[new_index + 1][0] - dots[new_index][0])\n",
    "    dots[new_index - 1] = (dots[new_index - 1][0], 0, H_1)\n",
    "    dots[new_index] = (new_dot, 0, H_2)\n",
    "    max_value, H_max_index = max([(h, -i) for i, (x, y, h) in enumerate(dots)])\n",
    "    H_max_index = H_max_index * (-1)\n",
    "    L = 1 if dots[H_max_index][2] == 0 else tau * dots[H_max_index][2]\n",
    "\n",
    "\n",
    "    new_char_1 = L * (dots[max_index][0] - dots[max_index - 1][0]) + ((func(dots[max_index][0]) - func(dots[max_index - 1][0])) ** 2) / (L * (dots[max_index][0] - dots[max_index - 1][0])) - 2 * (func(dots[max_index][0]) - func(dots[max_index - 1][0]))\n",
    "\n",
    "\n",
    "    new_char_2 = L * (dots[max_index + 1][0] - dots[max_index][0]) + ((func(dots[max_index + 1][0]) - func(dots[max_index][0])) ** 2) / (L * (dots[max_index + 1][0] - dots[max_index][0])) - 2 * (func(dots[max_index + 1][0]) - func(dots[max_index][0]))\n",
    "\n",
    "\n",
    "    dots[new_index - 1] = (dots[new_index - 1][0], new_char_1, H_1)\n",
    "    dots[new_index] = (new_dot, new_char_2, H_2)\n",
    "\n",
    "    return i_ng_1(func, dots, counter, H_max_index, tau)"
   ],
   "metadata": {
    "collapsed": false,
    "pycharm": {
     "name": "#%%\n"
    }
   }
  },
  {
   "cell_type": "code",
   "execution_count": 3,
   "outputs": [
    {
     "ename": "ZeroDivisionError",
     "evalue": "float division by zero",
     "output_type": "error",
     "traceback": [
      "\u001B[0;31m---------------------------------------------------------------------------\u001B[0m",
      "\u001B[0;31mZeroDivisionError\u001B[0m                         Traceback (most recent call last)",
      "Input \u001B[0;32mIn [3]\u001B[0m, in \u001B[0;36m<module>\u001B[0;34m\u001B[0m\n\u001B[1;32m      7\u001B[0m char_a \u001B[38;5;241m=\u001B[39m L \u001B[38;5;241m*\u001B[39m (b \u001B[38;5;241m-\u001B[39m a) \u001B[38;5;241m+\u001B[39m ((func\u001B[38;5;241m.\u001B[39mf(b) \u001B[38;5;241m-\u001B[39m func\u001B[38;5;241m.\u001B[39mf(a)) \u001B[38;5;241m*\u001B[39m\u001B[38;5;241m*\u001B[39m \u001B[38;5;241m2\u001B[39m) \u001B[38;5;241m/\u001B[39m (L \u001B[38;5;241m*\u001B[39m (b \u001B[38;5;241m-\u001B[39m a)) \u001B[38;5;241m-\u001B[39m \u001B[38;5;241m2\u001B[39m \u001B[38;5;241m*\u001B[39m (func\u001B[38;5;241m.\u001B[39mf(b) \u001B[38;5;241m-\u001B[39m func\u001B[38;5;241m.\u001B[39mf(a))\n\u001B[1;32m      8\u001B[0m dots \u001B[38;5;241m=\u001B[39m [(a, char_a, H), (b, \u001B[38;5;241m-\u001B[39m\u001B[38;5;28mfloat\u001B[39m(\u001B[38;5;124m\"\u001B[39m\u001B[38;5;124minf\u001B[39m\u001B[38;5;124m\"\u001B[39m), \u001B[38;5;241m-\u001B[39m\u001B[38;5;28mfloat\u001B[39m(\u001B[38;5;124m\"\u001B[39m\u001B[38;5;124minf\u001B[39m\u001B[38;5;124m\"\u001B[39m))]\n\u001B[0;32m----> 9\u001B[0m maxval, count, H \u001B[38;5;241m=\u001B[39m \u001B[43mi_ng_1\u001B[49m\u001B[43m(\u001B[49m\u001B[43mfunc\u001B[49m\u001B[38;5;241;43m.\u001B[39;49m\u001B[43mf\u001B[49m\u001B[43m,\u001B[49m\u001B[43m \u001B[49m\u001B[43mdots\u001B[49m\u001B[43m,\u001B[49m\u001B[43m \u001B[49m\u001B[43mcounter\u001B[49m\u001B[43m,\u001B[49m\u001B[43m \u001B[49m\u001B[38;5;241;43m0\u001B[39;49m\u001B[43m,\u001B[49m\u001B[43m \u001B[49m\u001B[43mtau\u001B[49m\u001B[43m)\u001B[49m\n\u001B[1;32m     10\u001B[0m \u001B[38;5;28mprint\u001B[39m(index \u001B[38;5;241m+\u001B[39m \u001B[38;5;241m1\u001B[39m, maxval, count)\n",
      "Input \u001B[0;32mIn [2]\u001B[0m, in \u001B[0;36mi_ng_1\u001B[0;34m(func, dots, counter, H_max_index, tau)\u001B[0m\n\u001B[1;32m     10\u001B[0m new_index \u001B[38;5;241m=\u001B[39m bisect\u001B[38;5;241m.\u001B[39mbisect_left(dots, (new_dot, \u001B[38;5;241m0\u001B[39m))\n\u001B[1;32m     11\u001B[0m bisect\u001B[38;5;241m.\u001B[39minsort_left(dots, (new_dot, \u001B[38;5;241m0\u001B[39m))\n\u001B[0;32m---> 12\u001B[0m H_1 \u001B[38;5;241m=\u001B[39m \u001B[38;5;28;43mabs\u001B[39;49m\u001B[43m(\u001B[49m\u001B[43mfunc\u001B[49m\u001B[43m(\u001B[49m\u001B[43mdots\u001B[49m\u001B[43m[\u001B[49m\u001B[43mnew_index\u001B[49m\u001B[43m]\u001B[49m\u001B[43m[\u001B[49m\u001B[38;5;241;43m0\u001B[39;49m\u001B[43m]\u001B[49m\u001B[43m)\u001B[49m\u001B[43m \u001B[49m\u001B[38;5;241;43m-\u001B[39;49m\u001B[43m \u001B[49m\u001B[43mfunc\u001B[49m\u001B[43m(\u001B[49m\u001B[43mdots\u001B[49m\u001B[43m[\u001B[49m\u001B[43mnew_index\u001B[49m\u001B[43m \u001B[49m\u001B[38;5;241;43m-\u001B[39;49m\u001B[43m \u001B[49m\u001B[38;5;241;43m1\u001B[39;49m\u001B[43m]\u001B[49m\u001B[43m[\u001B[49m\u001B[38;5;241;43m0\u001B[39;49m\u001B[43m]\u001B[49m\u001B[43m)\u001B[49m\u001B[43m)\u001B[49m\u001B[43m \u001B[49m\u001B[38;5;241;43m/\u001B[39;49m\u001B[43m \u001B[49m\u001B[43m(\u001B[49m\u001B[43mdots\u001B[49m\u001B[43m[\u001B[49m\u001B[43mnew_index\u001B[49m\u001B[43m]\u001B[49m\u001B[43m[\u001B[49m\u001B[38;5;241;43m0\u001B[39;49m\u001B[43m]\u001B[49m\u001B[43m \u001B[49m\u001B[38;5;241;43m-\u001B[39;49m\u001B[43m \u001B[49m\u001B[43mdots\u001B[49m\u001B[43m[\u001B[49m\u001B[43mnew_index\u001B[49m\u001B[43m \u001B[49m\u001B[38;5;241;43m-\u001B[39;49m\u001B[43m \u001B[49m\u001B[38;5;241;43m1\u001B[39;49m\u001B[43m]\u001B[49m\u001B[43m[\u001B[49m\u001B[38;5;241;43m0\u001B[39;49m\u001B[43m]\u001B[49m\u001B[43m)\u001B[49m\n\u001B[1;32m     13\u001B[0m H_2 \u001B[38;5;241m=\u001B[39m \u001B[38;5;28mabs\u001B[39m(func(dots[new_index \u001B[38;5;241m+\u001B[39m \u001B[38;5;241m1\u001B[39m][\u001B[38;5;241m0\u001B[39m]) \u001B[38;5;241m-\u001B[39m func(dots[new_index][\u001B[38;5;241m0\u001B[39m])) \u001B[38;5;241m/\u001B[39m (dots[new_index \u001B[38;5;241m+\u001B[39m \u001B[38;5;241m1\u001B[39m][\u001B[38;5;241m0\u001B[39m] \u001B[38;5;241m-\u001B[39m dots[new_index][\u001B[38;5;241m0\u001B[39m])\n\u001B[1;32m     14\u001B[0m dots[new_index \u001B[38;5;241m-\u001B[39m \u001B[38;5;241m1\u001B[39m] \u001B[38;5;241m=\u001B[39m (dots[new_index \u001B[38;5;241m-\u001B[39m \u001B[38;5;241m1\u001B[39m][\u001B[38;5;241m0\u001B[39m], \u001B[38;5;241m0\u001B[39m, H_1)\n",
      "\u001B[0;31mZeroDivisionError\u001B[0m: float division by zero"
     ]
    }
   ],
   "source": [
    "for index, func in enumerate(test_functions):\n",
    "    tau = 1\n",
    "    a, b, counter = func.interval[0], func.interval[1], 0\n",
    "    H = abs(func.f(b) - func.f(a)) / (b - a)\n",
    "    L = 1 if H == 0 else tau * H\n",
    "    epsilon = (b - a) * (10 ** -4)\n",
    "    char_a = L * (b - a) + ((func.f(b) - func.f(a)) ** 2) / (L * (b - a)) - 2 * (func.f(b) - func.f(a))\n",
    "    dots = [(a, char_a, H), (b, -float(\"inf\"), -float(\"inf\"))]\n",
    "    maxval, count, H = i_ng_1(func.f, dots, counter, 0, tau)\n",
    "    print(index + 1, maxval, count)"
   ],
   "metadata": {
    "collapsed": false,
    "pycharm": {
     "name": "#%%\n"
    }
   }
  },
  {
   "cell_type": "code",
   "execution_count": null,
   "outputs": [],
   "source": [],
   "metadata": {
    "collapsed": false,
    "pycharm": {
     "name": "#%%\n"
    }
   }
  }
 ],
 "metadata": {
  "kernelspec": {
   "display_name": "Python 3",
   "language": "python",
   "name": "python3"
  },
  "language_info": {
   "codemirror_mode": {
    "name": "ipython",
    "version": 2
   },
   "file_extension": ".py",
   "mimetype": "text/x-python",
   "name": "python",
   "nbconvert_exporter": "python",
   "pygments_lexer": "ipython2",
   "version": "2.7.6"
  }
 },
 "nbformat": 4,
 "nbformat_minor": 0
}