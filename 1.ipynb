{
 "cells": [
  {
   "cell_type": "code",
   "execution_count": 5,
   "metadata": {
    "pycharm": {
     "name": "#%%\n"
    }
   },
   "outputs": [],
   "source": [
    "import numpy as np\n",
    "import matplotlib.pyplot as plt\n",
    "import sys\n",
    "rec = 100000\n",
    "sys.setrecursionlimit(rec)"
   ]
  },
  {
   "cell_type": "code",
   "execution_count": 2,
   "metadata": {
    "pycharm": {
     "name": "#%%\n"
    }
   },
   "outputs": [],
   "source": [
    "def algo(func, L, massiv, counter):\n",
    "    new_x = min(massiv , key = lambda f: f[1])\n",
    "    massiv.remove(new_x)\n",
    "    x, y = new_x[0], new_x[1]\n",
    "    if (func(x) - y) < pointstop:\n",
    "        return func(x), counter\n",
    "    delta = (1 / (2 * L)) * (func(x) - y)\n",
    "    x_1 = x - delta\n",
    "    x_2 = x + delta\n",
    "    y_new = (func(x) + y) / 2\n",
    "    massiv.append((x_1, y_new)), massiv.append((x_2, y_new))\n",
    "    counter += 1\n",
    "    return algo(func, L, massiv, counter)\n",
    "\n",
    "\n",
    "\n",
    "\n"
   ]
  },
  {
   "cell_type": "code",
   "execution_count": 3,
   "metadata": {
    "pycharm": {
     "name": "#%%\n"
    }
   },
   "outputs": [
    {
     "ename": "TypeError",
     "evalue": "'function' object is not iterable",
     "output_type": "error",
     "traceback": [
      "\u001B[0;31m---------------------------------------------------------------------------\u001B[0m",
      "\u001B[0;31mTypeError\u001B[0m                                 Traceback (most recent call last)",
      "Input \u001B[0;32mIn [3]\u001B[0m, in \u001B[0;36m<cell line: 1>\u001B[0;34m()\u001B[0m\n\u001B[0;32m----> 1\u001B[0m \u001B[38;5;28;01mfor\u001B[39;00m index, func \u001B[38;5;129;01min\u001B[39;00m \u001B[38;5;28;43menumerate\u001B[39;49m\u001B[43m(\u001B[49m\u001B[43mtest_functions\u001B[49m\u001B[43m)\u001B[49m:\n\u001B[1;32m      2\u001B[0m     a, b, L \u001B[38;5;241m=\u001B[39m func\u001B[38;5;241m.\u001B[39minterval[\u001B[38;5;241m0\u001B[39m], func\u001B[38;5;241m.\u001B[39minterval[\u001B[38;5;241m1\u001B[39m], func\u001B[38;5;241m.\u001B[39mL\n\u001B[1;32m      3\u001B[0m     pointstop \u001B[38;5;241m=\u001B[39m (b \u001B[38;5;241m-\u001B[39m a) \u001B[38;5;241m*\u001B[39m (\u001B[38;5;241m10\u001B[39m \u001B[38;5;241m*\u001B[39m\u001B[38;5;241m*\u001B[39m \u001B[38;5;241m-\u001B[39m\u001B[38;5;241m2\u001B[39m)\n",
      "\u001B[0;31mTypeError\u001B[0m: 'function' object is not iterable"
     ]
    }
   ],
   "source": [
    "for index, func in enumerate(test_functions):\n",
    "    a, b, L = func.interval[0], func.interval[1], func.L\n",
    "    pointstop = (b - a) * (10 ** -2)\n",
    "    massiv = []\n",
    "    counter = 0\n",
    "    x_1 = (a + b) / 2 + (func.f(a) - func.f(b)) / (2 * L)\n",
    "    y_1 = (func.f(a) + func.f(b)) / 2 + ((a - b) / 2 ) * L\n",
    "    massiv.append((x_1, y_1))\n",
    "    result = algo(func.f, L, massiv, counter)\n",
    "    print(index, result[0], result[1])"
   ]
  },
  {
   "cell_type": "code",
   "execution_count": 4,
   "outputs": [
    {
     "ename": "TypeError",
     "evalue": "'function' object is not iterable",
     "output_type": "error",
     "traceback": [
      "\u001B[0;31m---------------------------------------------------------------------------\u001B[0m",
      "\u001B[0;31mTypeError\u001B[0m                                 Traceback (most recent call last)",
      "Input \u001B[0;32mIn [4]\u001B[0m, in \u001B[0;36m<cell line: 1>\u001B[0;34m()\u001B[0m\n\u001B[0;32m----> 1\u001B[0m \u001B[38;5;28;01mfor\u001B[39;00m index, func \u001B[38;5;129;01min\u001B[39;00m \u001B[38;5;28;43menumerate\u001B[39;49m\u001B[43m(\u001B[49m\u001B[43mtest_functions\u001B[49m\u001B[43m)\u001B[49m:\n\u001B[1;32m      2\u001B[0m     a, b, L \u001B[38;5;241m=\u001B[39m func\u001B[38;5;241m.\u001B[39minterval[\u001B[38;5;241m0\u001B[39m], func\u001B[38;5;241m.\u001B[39minterval[\u001B[38;5;241m1\u001B[39m], func\u001B[38;5;241m.\u001B[39mL\n\u001B[1;32m      3\u001B[0m     pointstop \u001B[38;5;241m=\u001B[39m (b \u001B[38;5;241m-\u001B[39m a) \u001B[38;5;241m*\u001B[39m (\u001B[38;5;241m10\u001B[39m \u001B[38;5;241m*\u001B[39m\u001B[38;5;241m*\u001B[39m \u001B[38;5;241m-\u001B[39m\u001B[38;5;241m2\u001B[39m)\n",
      "\u001B[0;31mTypeError\u001B[0m: 'function' object is not iterable"
     ]
    }
   ],
   "source": [
    "for index, func in enumerate(test_functions):\n",
    "    a, b, L = func.interval[0], func.interval[1], func.L\n",
    "    pointstop = (b - a) * (10 ** -2)\n",
    "    massiv = []\n",
    "    counter = 0\n",
    "    x_1 = (a + b) / 2 + (func.f(a) - func.f(b)) / (2 * L)\n",
    "    y_1 = (func.f(a) + func.f(b)) / 2 + ((a - b) / 2 ) * L\n",
    "    massiv.append((x_1, y_1))\n",
    "    result = algo(func.f, L, massiv, counter)\n",
    "    print(index, result[0], result[1])"
   ],
   "metadata": {
    "collapsed": false,
    "pycharm": {
     "name": "#%%\n"
    }
   }
  },
  {
   "cell_type": "code",
   "execution_count": null,
   "outputs": [],
   "source": [],
   "metadata": {
    "collapsed": false,
    "pycharm": {
     "name": "#%%\n"
    }
   }
  }
 ],
 "metadata": {
  "kernelspec": {
   "display_name": "Python 3",
   "language": "python",
   "name": "python3"
  },
  "language_info": {
   "codemirror_mode": {
    "name": "ipython",
    "version": 3
   },
   "file_extension": ".py",
   "mimetype": "text/x-python",
   "name": "python",
   "nbconvert_exporter": "python",
   "pygments_lexer": "ipython3",
   "version": "3.8.8"
  }
 },
 "nbformat": 4,
 "nbformat_minor": 1
}