{
 "cells": [
  {
   "cell_type": "markdown",
   "source": [
    "Дурыманов Евгений Валерьевич, отчет по алгоритмам градиентного спуска с разным выбором длины шага."
   ],
   "metadata": {
    "collapsed": false,
    "pycharm": {
     "name": "#%% md\n"
    }
   }
  },
  {
   "cell_type": "code",
   "execution_count": 1,
   "outputs": [],
   "source": [
    "import bisect\n",
    "import sys\n",
    "from test_functions import test_functions\n",
    "import numpy as np\n",
    "import matplotlib.pyplot as plt\n",
    "from tqdm import tqdm\n",
    "rec = 100000\n",
    "sys.setrecursionlimit(rec)"
   ],
   "metadata": {
    "collapsed": false,
    "pycharm": {
     "name": "#%%\n"
    }
   }
  },
  {
   "cell_type": "code",
   "execution_count": 2,
   "outputs": [],
   "source": [
    "def func_1(x, n):\n",
    "    return sum(100 * ((x[0] - x[1]) ** 2) + 5 * (1 - x[j]) ** 2 for j in range(1, n))\n",
    "\n",
    "def func_1_grad(x, n):\n",
    "    result = x * 10 - 10\n",
    "    result[0], result[1] = 200 * x[0] - 200 * x[1], -200 * x[0] + 210 * x[1] - 10\n",
    "    return np.array(result)\n",
    "\n",
    "def func_2(x_1, x_2):\n",
    "    return 100 * (x_2 - x_1 ** 2) ** 2 + 5 * (1 - x_1) ** 2\n",
    "\n",
    "def func_2_grad(x_1, x_2):\n",
    "    return (10 * (40 * x_1 ** 3 - 40 * x_1 * x_2 + x_1 - 1), 200 * (x_2 - x_1 ** 2))"
   ],
   "metadata": {
    "collapsed": false,
    "pycharm": {
     "name": "#%%\n"
    }
   }
  },
  {
   "cell_type": "code",
   "execution_count": 3,
   "outputs": [],
   "source": [
    "def golden_1(f, b, a, c1, c2, epsilon = 10 ** (-12)):\n",
    "\n",
    "    phi = (1 + (5 ** 1 / 2)) / 2\n",
    "    c, d = b - (b - a) / phi, a + (b - a) / phi\n",
    "    while abs(b - a) > epsilon:\n",
    "        if f(c, c1, c2) < f(d, c1, c2):\n",
    "            b = d\n",
    "        else:\n",
    "            a = c\n",
    "\n",
    "        c = b - (b - a) / phi\n",
    "        d = a + (b - a) / phi\n",
    "\n",
    "    return (a + b) / 2"
   ],
   "metadata": {
    "collapsed": false,
    "pycharm": {
     "name": "#%%\n"
    }
   }
  },
  {
   "cell_type": "code",
   "execution_count": 4,
   "outputs": [],
   "source": [
    "def golden_2(f, b, a, c1, c2, c3, c4, epsilon = 10 ** (-12)):\n",
    "    phi = (1 + (5 ** 1 / 2)) / 2\n",
    "    c, d = b - (b - a) / phi, a + (b - a) / phi\n",
    "    while abs(b - a) > epsilon:\n",
    "        if f(c, c1, c2, c3, c4) < f(d, c1, c2, c3, c4):\n",
    "            b = d\n",
    "        else:\n",
    "            a = c\n",
    "\n",
    "        c = b - (b - a) / phi\n",
    "        d = a + (b - a) / phi\n",
    "\n",
    "    return (a + b) / 2"
   ],
   "metadata": {
    "collapsed": false,
    "pycharm": {
     "name": "#%%\n"
    }
   }
  },
  {
   "cell_type": "code",
   "execution_count": 8,
   "outputs": [],
   "source": [
    "def grad_1(f, fgrad, x, case, counter):\n",
    "\n",
    "    n = len(x)\n",
    "    start = f(x, n)\n",
    "    counter += 1\n",
    "    fdot = fgrad(x, n)\n",
    "    c1, c2 = x, fdot\n",
    "    def f_one(h, c1, c2):\n",
    "        return f(c1 - h * c2, n)\n",
    "\n",
    "    if case == 1:\n",
    "        b, a = 100000, 0\n",
    "        h = golden_1(f_one, b, a, c1, c2)\n",
    "\n",
    "    elif case == 2:\n",
    "        h = 0.001\n",
    "\n",
    "    else:\n",
    "        alpha = 0.01\n",
    "        h = 1\n",
    "        q = 0.8\n",
    "        while f(x - h * fdot, n) > f(x, n) - alpha * h * np.linalg.norm(fdot):\n",
    "            h = q * h\n",
    "\n",
    "\n",
    "    finish = f(x - h * fdot, n)\n",
    "    if abs(start - finish) < 10 ** (-4):\n",
    "        return x, finish, counter\n",
    "\n",
    "    return grad_1(f, fgrad, x - h * fdot, case, counter)"
   ],
   "metadata": {
    "collapsed": false,
    "pycharm": {
     "name": "#%%\n"
    }
   }
  },
  {
   "cell_type": "code",
   "execution_count": 9,
   "outputs": [],
   "source": [
    "def grad_2(f, fgrad, x_1, x_2, x_s, y_s, case, counter):\n",
    "\n",
    "    start = f(x_1, x_2)\n",
    "    counter += 1\n",
    "    fdot1, fdot2 = fgrad(x_1, x_2)\n",
    "    c1, c2, c3, c4 = x_1, fdot1, x_2, fdot2\n",
    "\n",
    "    def f_one(h, c1, c2, c3, c4):\n",
    "        return f(c1 - h * c2, c3 - h * c4)\n",
    "\n",
    "    if case == 1:\n",
    "        b, a = 100000, 0\n",
    "        h = golden_2(f_one, b, a, c1, c2, c3, c4)\n",
    "\n",
    "    elif case == 2:\n",
    "        h = 0.001\n",
    "\n",
    "    else:\n",
    "        alpha = 0.01\n",
    "        h = 1\n",
    "        q = 0.8\n",
    "        while f(x_1 - h * fdot1, x_2 - h * fdot2) > f(x_1, x_2) - alpha * h * (fdot1 ** 2 + fdot2 ** 2) ** (1/2):\n",
    "            h = q * h\n",
    "\n",
    "\n",
    "    finish = f(x_1 - h * fdot1, x_2 - h * fdot2)\n",
    "    x_s.append(x_1 - h * fdot1), y_s.append(x_2 - h * fdot2)\n",
    "    if abs(start - finish) < 10 ** (-12):\n",
    "        return x_1, x_2, finish, counter\n",
    "\n",
    "    return grad_2(f, fgrad, x_1 - h * fdot1, x_2 - h * fdot2, x_s, y_s, case, counter)"
   ],
   "metadata": {
    "collapsed": false,
    "pycharm": {
     "name": "#%%\n"
    }
   }
  },
  {
   "cell_type": "code",
   "execution_count": 10,
   "outputs": [
    {
     "name": "stdout",
     "output_type": "stream",
     "text": [
      "Dimension: 2\n",
      "counters 161\n",
      "counters 626\n",
      "counters 114\n",
      "\n",
      "\n",
      "Dimension: 3\n",
      "counters 39\n",
      "counters 628\n",
      "counters 134\n",
      "\n",
      "\n",
      "Dimension: 5\n",
      "counters 29\n",
      "counters 631\n",
      "counters 113\n",
      "\n",
      "\n",
      "Dimension: 10\n",
      "counters 10\n",
      "counters 638\n",
      "counters 106\n",
      "\n",
      "\n"
     ]
    }
   ],
   "source": [
    "for n in (2, 3, 5, 10):\n",
    "    print(\"Dimension:\", n)\n",
    "    for case in (1, 2, 3):\n",
    "        counter = 0\n",
    "        x = np.array([0] * n)\n",
    "        result = grad_1(func_1, func_1_grad, x, case, counter)\n",
    "        #print(result)\n",
    "        print(\"counters\", result[2])\n",
    "        if case == 3:\n",
    "            print('\\n')"
   ],
   "metadata": {
    "collapsed": false,
    "pycharm": {
     "name": "#%%\n"
    }
   }
  },
  {
   "cell_type": "markdown",
   "source": [
    "В таблице выше результат работы алгоритма градиентного спуска для трех разных вариантов выбора h, counter - число вычислений градиента.\n",
    "\n",
    "1 случай - полная релаксация, h выбирает как argmin значения целевой функции на отрезке [0, 100000], минимум ищется с помощью метода золотого сечения до достижения разницы между двумя точками испытания в $10^{-12}$.\n",
    "\n",
    "2 случай - константый h = 0.001.\n",
    "\n",
    "3 случай - h - выбирается из условия Армихо $f(x_{k+1}) <= \\phi_{\\alpha}(h)$, $h_0$ для старта итерацией выбирается единицей, $\\alpha = 0.01, q = 0.8$, где $q$ - параметр масштаба уменьшения шага."
   ],
   "metadata": {
    "collapsed": false,
    "pycharm": {
     "name": "#%% md\n"
    }
   }
  },
  {
   "cell_type": "code",
   "execution_count": 8,
   "outputs": [
    {
     "name": "stdout",
     "output_type": "stream",
     "text": [
      "(0.9999959812896076, 0.9999919625953738, 7.975324246588022e-11, 1763)\n"
     ]
    },
    {
     "data": {
      "text/plain": "<Figure size 432x288 with 1 Axes>",
      "image/png": "[encoded data removed]"
     },
     "metadata": {
      "needs_background": "light"
     },
     "output_type": "display_data"
    },
    {
     "name": "stdout",
     "output_type": "stream",
     "text": [
      "(0.9999929306447184, 0.9999857196706149, 2.5088737413073806e-10, 5369)\n"
     ]
    },
    {
     "data": {
      "text/plain": "<Figure size 432x288 with 1 Axes>",
      "image/png": "[encoded data removed]"
     },
     "metadata": {
      "needs_background": "light"
     },
     "output_type": "display_data"
    },
    {
     "name": "stdout",
     "output_type": "stream",
     "text": [
      "(0.9977764336544621, 0.9955130742483255, 2.4921379136744488e-05, 1083)\n"
     ]
    },
    {
     "data": {
      "text/plain": "<Figure size 432x288 with 1 Axes>",
      "image/png": "[encoded data removed]"
     },
     "metadata": {
      "needs_background": "light"
     },
     "output_type": "display_data"
    }
   ],
   "source": [
    "start_1, start_2 = 0, 0\n",
    "for case in (1, 2, 3):\n",
    "    counter = 0\n",
    "    x_s = [start_1]\n",
    "    y_s = [start_2]\n",
    "    result = grad_2(func_2, func_2_grad, start_1, start_2, x_s, y_s, case, counter)\n",
    "    print(result)\n",
    "    plt.plot(x_s, y_s)\n",
    "    plt.show()"
   ],
   "metadata": {
    "collapsed": false,
    "pycharm": {
     "name": "#%%\n"
    }
   }
  },
  {
   "cell_type": "markdown",
   "source": [
    "Тот же самый алгоритм, только с графическими результатами для функции Розенброка."
   ],
   "metadata": {
    "collapsed": false,
    "pycharm": {
     "name": "#%% md\n"
    }
   }
  },
  {
   "cell_type": "code",
   "execution_count": null,
   "outputs": [],
   "source": [],
   "metadata": {
    "collapsed": false,
    "pycharm": {
     "name": "#%%\n"
    }
   }
  }
 ],
 "metadata": {
  "kernelspec": {
   "display_name": "Python 3",
   "language": "python",
   "name": "python3"
  },
  "language_info": {
   "codemirror_mode": {
    "name": "ipython",
    "version": 2
   },
   "file_extension": ".py",
   "mimetype": "text/x-python",
   "name": "python",
   "nbconvert_exporter": "python",
   "pygments_lexer": "ipython2",
   "version": "2.7.6"
  }
 },
 "nbformat": 4,
 "nbformat_minor": 0
}