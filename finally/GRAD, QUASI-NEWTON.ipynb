{
 "cells": [
  {
   "cell_type": "markdown",
   "source": [
    "Дурыманов Евгений Валерьевич, отчет по квази-ньютоновским алгоритмам градиентного спуска с разным выбором $H_{k+1}$.\n"
   ],
   "metadata": {
    "collapsed": false,
    "pycharm": {
     "name": "#%% md\n"
    }
   }
  },
  {
   "cell_type": "code",
   "execution_count": 39,
   "outputs": [],
   "source": [
    "import bisect\n",
    "import sys\n",
    "from test_functions import test_functions\n",
    "import numpy as np\n",
    "import matplotlib.pyplot as plt\n",
    "from tqdm import tqdm\n",
    "rec = 100000\n",
    "sys.setrecursionlimit(rec)"
   ],
   "metadata": {
    "collapsed": false,
    "pycharm": {
     "name": "#%%\n"
    }
   }
  },
  {
   "cell_type": "code",
   "execution_count": 40,
   "outputs": [],
   "source": [
    "def func_1(x, n):\n",
    "    return sum(100 * ((x[0] - x[1]) ** 2) + 5 * (1 - x[j]) ** 2 for j in range(1, n))\n",
    "\n",
    "def func_1_grad(x, n):\n",
    "    result = x * 10 - 10\n",
    "    result[0], result[1] = 200 * x[0] - 200 * x[1], -200 * x[0] + 210 * x[1] - 10\n",
    "    return np.array(result)\n",
    "\n",
    "def func_2(x_1, x_2):\n",
    "    return 100 * (x_2 - x_1 ** 2) ** 2 + 5 * (1 - x_1) ** 2\n",
    "\n",
    "def func_2_grad(x_1, x_2):\n",
    "    return np.array((10 * (40 * x_1 ** 3 - 40 * x_1 * x_2 + x_1 - 1), 200 * (x_2 - x_1 ** 2)))"
   ],
   "metadata": {
    "collapsed": false,
    "pycharm": {
     "name": "#%%\n"
    }
   }
  },
  {
   "cell_type": "code",
   "execution_count": 41,
   "outputs": [],
   "source": [
    "def get_alpha(f, fgrad, cur_x, direction,  alpha=0.4, beta = 0.8):\n",
    "    def phi(gamma):\n",
    "        return gamma * (fgrad(cur_x[0], cur_x[1]) @ (cur_x - new_x))\n",
    "\n",
    "    cur_h = 0.5\n",
    "    min_h, max_h = 0, 1\n",
    "    counter = 0\n",
    "    while True and counter < 1000:\n",
    "        counter += 1\n",
    "        new_x = cur_x - cur_h * direction\n",
    "        if f(cur_x[0], cur_x[1]) - f(new_x[0], new_x[1]) > phi(alpha):\n",
    "            new_h = (max_h - cur_h) / 2\n",
    "\n",
    "        elif (f(cur_x[0], cur_x[1]) - f(new_x[0], new_x[1])) < phi(beta):\n",
    "            new_h = (min_h + cur_h) / 2\n",
    "            max_h = cur_h\n",
    "        else:\n",
    "            break\n",
    "        cur_h = new_h\n",
    "    return cur_h"
   ],
   "metadata": {
    "collapsed": false,
    "pycharm": {
     "name": "#%%\n"
    }
   }
  },
  {
   "cell_type": "code",
   "execution_count": 57,
   "outputs": [],
   "source": [
    "def grad(f, fgrad, d, gamma, H, it, case, n, counter):\n",
    "\n",
    "    counter += 1\n",
    "\n",
    "    if case == 1:\n",
    "        temp_scalar = (d - H @ gamma) @ gamma\n",
    "        if temp_scalar < 10 ** (-3) == 0:\n",
    "            H_next = np.eye(n)\n",
    "        else:\n",
    "            H_next = H + (1 / temp_scalar) * np.outer((d - H @ gamma), np.transpose(d - H @ gamma))\n",
    "        direction = H_next @ fgrad(it, n)\n",
    "        if counter < 1:\n",
    "            next_it = it - get_alpha(f, fgrad, it, direction) * direction\n",
    "        else:\n",
    "            next_it = it - H_next @ fgrad(it, n)\n",
    "        d_next = next_it - it\n",
    "        gamma_next = fgrad(next_it, n) - fgrad(it, n)\n",
    "\n",
    "    elif case == 2:\n",
    "        temp_1 = (1 / (gamma @ d)) * (np.outer(np.transpose(d), d))\n",
    "        temp_2 = (1 / ((H @ gamma) @ gamma)) * (np.outer((H @ gamma), np.transpose(H @ gamma)))\n",
    "        H_next = (H + temp_1 - temp_2)\n",
    "        direction = H_next @ fgrad(it, n)\n",
    "        if counter < 1:\n",
    "            alpha = get_alpha(f, fgrad, it, direction)\n",
    "            next_it = it - alpha * direction\n",
    "        else:\n",
    "            next_it = it - direction\n",
    "        d_next = next_it - it\n",
    "        gamma_next = fgrad(next_it, n) - fgrad(it, n)\n",
    "\n",
    "    else:\n",
    "        temp_1 = 1 / ((H @ gamma) @ gamma)\n",
    "        temp_2 = np.outer(H @ gamma, np.transpose(d))\n",
    "        temp_3 = np.outer(d, np.transpose(H @ gamma))\n",
    "        temp_4 = 1 +((gamma @ d) / ((H @ gamma) @ gamma))\n",
    "        temp_5 = np.outer((H @ gamma), np.transpose(H @ gamma))\n",
    "        H_next = (H + temp_1 * (temp_2 + temp_3) - temp_1 * temp_4 * temp_5)\n",
    "        direction = H_next @ fgrad(it, n)\n",
    "        if counter < 1:\n",
    "            next_it = it - get_alpha(f, fgrad, it, direction) * direction\n",
    "        else:\n",
    "             next_it = it - direction\n",
    "        d_next = next_it - it\n",
    "        gamma_next = fgrad(next_it, n) - fgrad(it, n)\n",
    "\n",
    "    #xs.append(next_it[0]), ys.append(next_it[1])\n",
    "    if abs(f(next_it, n) - f(it, n)) < 10 ** (-5):\n",
    "        return next_it, f(next_it, n), counter\n",
    "\n",
    "    return grad(f, fgrad, d_next, gamma_next, H_next, next_it,case, n, counter)\n"
   ],
   "metadata": {
    "collapsed": false,
    "pycharm": {
     "name": "#%%\n"
    }
   }
  },
  {
   "cell_type": "code",
   "execution_count": 24,
   "outputs": [
    {
     "name": "stdout",
     "output_type": "stream",
     "text": [
      "(array([0.94244982, 0.88378191]), 0.018522385064196817, 12)\n"
     ]
    },
    {
     "data": {
      "text/plain": "<Figure size 432x288 with 1 Axes>",
      "image/png": "[encoded data removed]"
     },
     "metadata": {
      "needs_background": "light"
     },
     "output_type": "display_data"
    },
    {
     "name": "stdout",
     "output_type": "stream",
     "text": [
      "(array([0.99432679, 0.98785509]), 0.00022992791954709686, 13)\n"
     ]
    },
    {
     "data": {
      "text/plain": "<Figure size 432x288 with 1 Axes>",
      "image/png": "[encoded data removed]"
     },
     "metadata": {
      "needs_background": "light"
     },
     "output_type": "display_data"
    },
    {
     "name": "stdout",
     "output_type": "stream",
     "text": [
      "(array([0.99593804, 0.99111357]), 0.00014318266283499075, 13)\n"
     ]
    },
    {
     "data": {
      "text/plain": "<Figure size 432x288 with 1 Axes>",
      "image/png": "[encoded data removed]"
     },
     "metadata": {
      "needs_background": "light"
     },
     "output_type": "display_data"
    }
   ],
   "source": [
    "start = np.array((0, 0))\n",
    "for case in [1, 2, 3]:\n",
    "    counter = 0\n",
    "    x_s = [start[0]]\n",
    "    y_s = [start[1]]\n",
    "    H_0 = np.eye(2)\n",
    "    direction = H_0 @ func_2_grad(start[0], start[1])\n",
    "    it_1 = start - get_alpha(func_2, func_2_grad, start, direction) * direction\n",
    "    d = it_1 - start\n",
    "    grad_it_1 = func_2_grad(it_1[0], it_1[1])\n",
    "    gamma = grad_it_1 - func_2_grad(start[0], start[1])\n",
    "    result = grad(func_2, func_2_grad, d, gamma, H_0, it_1, x_s, y_s, case, counter)\n",
    "    print(result)\n",
    "    plt.plot(x_s, y_s)\n",
    "    plt.show()"
   ],
   "metadata": {
    "collapsed": false,
    "pycharm": {
     "name": "#%%\n"
    }
   }
  },
  {
   "cell_type": "markdown",
   "source": [
    "На графиках выше показаны траектории точки при приближении к минимуму для трех методов: Бройдена, ДФП и БФГШ для функции Розенброка. Над графиками обозрачены сами точки минимума, значения в них, а также количество итераций алгоритма. Первые несколько шагов (5, 10, 10) считаются демпифрующими, длина шага вычисляется из условия Голдштейна - Армихо с параметрами $\\alpha = 0.4, \\beta = 0.8$. Параметр остановки - разница между значениями функций на различных итераций $= 10^{-5}$"
   ],
   "metadata": {
    "collapsed": false,
    "pycharm": {
     "name": "#%% md\n"
    }
   }
  },
  {
   "cell_type": "code",
   "execution_count": 15,
   "outputs": [
    {
     "name": "stdout",
     "output_type": "stream",
     "text": [
      "(array([1., 1.]), 6.162975822039155e-30, 3)\n"
     ]
    },
    {
     "data": {
      "text/plain": "<Figure size 432x288 with 1 Axes>",
      "image/png": "[encoded data removed]"
     },
     "metadata": {
      "needs_background": "light"
     },
     "output_type": "display_data"
    },
    {
     "name": "stdout",
     "output_type": "stream",
     "text": [
      "(array([1., 1.]), 3.665137810858606e-16, 3)\n"
     ]
    },
    {
     "data": {
      "text/plain": "<Figure size 432x288 with 1 Axes>",
      "image/png": "[encoded data removed]"
     },
     "metadata": {
      "needs_background": "light"
     },
     "output_type": "display_data"
    },
    {
     "name": "stdout",
     "output_type": "stream",
     "text": [
      "(array([1., 1.]), 6.042043820005437e-19, 3)\n"
     ]
    },
    {
     "data": {
      "text/plain": "<Figure size 432x288 with 1 Axes>",
      "image/png": "[encoded data removed]"
     },
     "metadata": {
      "needs_background": "light"
     },
     "output_type": "display_data"
    }
   ],
   "source": [
    "n = 2\n",
    "start = np.array((0, 0))\n",
    "for case in [1, 2, 3]:\n",
    "    counter = 0\n",
    "    x_s = [start[0]]\n",
    "    y_s = [start[1]]\n",
    "    H_0 = np.eye(n)\n",
    "    direction = H_0 @ func_1_grad(start, n)\n",
    "   # it_1 = start - get_alpha(func_1, func_1_grad, start, direction) * direction\n",
    "    it_1 = start - direction\n",
    "    d = it_1 - start\n",
    "    grad_it_1 = func_1_grad(it_1, n)\n",
    "    gamma = grad_it_1 - func_1_grad(start, n)\n",
    "    result = grad(func_1, func_1_grad, d, gamma, H_0, it_1, x_s, y_s, case, counter)\n",
    "    print(result)\n",
    "    plt.plot(x_s, y_s)\n",
    "    plt.show()"
   ],
   "metadata": {
    "collapsed": false,
    "pycharm": {
     "name": "#%%\n"
    }
   }
  },
  {
   "cell_type": "markdown",
   "source": [
    "Аналогично, но для квадратичной функции, однако здесь уже не используется демпфирующий шаг с помощью Армихо, так как и без него к миниму происходит спускание."
   ],
   "metadata": {
    "collapsed": false,
    "pycharm": {
     "name": "#%% md\n"
    }
   }
  },
  {
   "cell_type": "code",
   "execution_count": 63,
   "outputs": [
    {
     "name": "stdout",
     "output_type": "stream",
     "text": [
      "Метод Бройдена :  Dimension =  3 ,  Counter of iterations =  4\n",
      "Правило ДФП :  Dimension =  3 ,  Counter of iterations =  6\n",
      "Правило БФГШ :  Dimension =  3 ,  Counter of iterations =  6\n",
      "\n",
      "\n",
      "Метод Бройдена :  Dimension =  5 ,  Counter of iterations =  4\n",
      "Правило ДФП :  Dimension =  5 ,  Counter of iterations =  6\n",
      "Правило БФГШ :  Dimension =  5 ,  Counter of iterations =  7\n",
      "\n",
      "\n",
      "Метод Бройдена :  Dimension =  10 ,  Counter of iterations =  4\n",
      "Правило ДФП :  Dimension =  10 ,  Counter of iterations =  7\n",
      "Правило БФГШ :  Dimension =  10 ,  Counter of iterations =  8\n",
      "\n",
      "\n"
     ]
    }
   ],
   "source": [
    "for n in (3, 5, 10):\n",
    "    start = np.zeros(n)\n",
    "    for case in [1, 2, 3]:\n",
    "        counter = 0\n",
    "        H_0 = np.eye(n)\n",
    "        direction = H_0 @ func_1_grad(start, n)\n",
    "        it_1 = start - direction\n",
    "        d = it_1 - start\n",
    "        grad_it_1 = func_1_grad(it_1, n)\n",
    "        gamma = grad_it_1 - func_1_grad(start, n)\n",
    "        result = grad(func_1, func_1_grad, d, gamma, H_0, it_1, case, n, counter)\n",
    "        if case == 1:\n",
    "            method = \"Метод Бройдена\"\n",
    "        elif case == 2:\n",
    "            method = \"Правило ДФП\"\n",
    "        else:\n",
    "            method = \"Правило БФГШ\"\n",
    "        print(method, \":  Dimension = \" ,n, \",  Counter of iterations = \" ,result[-1])\n",
    "    print('\\n')"
   ],
   "metadata": {
    "collapsed": false,
    "pycharm": {
     "name": "#%%\n"
    }
   }
  },
  {
   "cell_type": "markdown",
   "source": [
    "Аналогично для квадратичной функции, но с различными измерениями(тоже без параметра Армихо), без рисунков(по понятным причинам)."
   ],
   "metadata": {
    "collapsed": false,
    "pycharm": {
     "name": "#%% md\n"
    }
   }
  },
  {
   "cell_type": "code",
   "execution_count": null,
   "outputs": [],
   "source": [],
   "metadata": {
    "collapsed": false,
    "pycharm": {
     "name": "#%%\n"
    }
   }
  }
 ],
 "metadata": {
  "kernelspec": {
   "display_name": "Python 3",
   "language": "python",
   "name": "python3"
  },
  "language_info": {
   "codemirror_mode": {
    "name": "ipython",
    "version": 2
   },
   "file_extension": ".py",
   "mimetype": "text/x-python",
   "name": "python",
   "nbconvert_exporter": "python",
   "pygments_lexer": "ipython2",
   "version": "2.7.6"
  }
 },
 "nbformat": 4,
 "nbformat_minor": 0
}