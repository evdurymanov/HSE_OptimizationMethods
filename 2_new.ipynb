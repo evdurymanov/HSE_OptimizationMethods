{
 "cells": [
  {
   "cell_type": "code",
   "execution_count": 1,
   "metadata": {
    "collapsed": true
   },
   "outputs": [],
   "source": [
    "import bisect\n",
    "import sys\n",
    "from test_functions import test_functions\n",
    "import numpy as np\n",
    "import matplotlib.pyplot as plt\n",
    "rec = 100000\n",
    "sys.setrecursionlimit(rec)"
   ]
  },
  {
   "cell_type": "code",
   "execution_count": 2,
   "outputs": [],
   "source": [
    "def F(func, dots, L, x):\n",
    "    f_s = [func(i) - L * np.abs(x - i) for (i, j) in dots]\n",
    "    return max(f_s)"
   ],
   "metadata": {
    "collapsed": false,
    "pycharm": {
     "name": "#%%\n"
    }
   }
  },
  {
   "cell_type": "code",
   "execution_count": 3,
   "outputs": [],
   "source": [
    "def na(func, dots, L, counter):\n",
    "    min_value, min_index = min([(y, i) for i, (x, y) in enumerate(dots)])\n",
    "\n",
    "    if abs(dots[min_index][0] - dots[min_index + 1][0]) < epsilon:\n",
    "        func_values = [func(x) for (x, y) in dots]\n",
    "        return min(func_values), counter\n",
    "    counter += 1\n",
    "    new_dot = (dots[min_index][0] + dots[min_index + 1][0]) / 2 - (func(dots[min_index][0]) - \\\n",
    "                                                                   func(dots[min_index + 1][0])) / (2 * L)\n",
    "    new_index = bisect.bisect_left(dots, (new_dot, 0))\n",
    "    bisect.insort_left(dots, (new_dot, 0))\n",
    "    new_char_1 = (func(dots[new_index][0]) + func(dots[new_index - 1][0])) / 2 - \\\n",
    "               L * (dots[new_index][0] - dots[new_index - 1][0])\n",
    "    new_char_2 = (func(dots[new_index][0]) + func(dots[new_index + 1][0])) / 2 - \\\n",
    "                 L * (dots[new_index + 1][0] - dots[new_index][0])\n",
    "    dots[new_index - 1] = (dots[new_index - 1][0], new_char_1)\n",
    "    dots[new_index] = (new_dot, new_char_2)\n",
    "    return na(func, dots, L, counter)\n",
    "\n"
   ],
   "metadata": {
    "collapsed": false,
    "pycharm": {
     "name": "#%%\n"
    }
   }
  },
  {
   "cell_type": "code",
   "execution_count": 4,
   "outputs": [],
   "source": [
    "def ng(func, dots, counter, H_max_index, tau = 2):\n",
    "    min_value, min_index = min([(y, i) for i, (x, y, h) in enumerate(dots)])\n",
    "    if abs(dots[min_index][0] - dots[min_index + 1][0]) < epsilon:\n",
    "        func_values = [func(x) for (x, y, h) in dots]\n",
    "        return min(func_values), counter, dots[H_max_index][2]\n",
    "    L = 1 if dots[H_max_index][2] == 0 else tau * dots[H_max_index][2]\n",
    "    counter += 1\n",
    "    new_dot = (dots[min_index][0] + dots[min_index + 1][0]) / 2 - (func(dots[min_index][0]) -\n",
    "                                                                   func(dots[min_index + 1][0])) / (2 * L)\n",
    "    new_index = bisect.bisect_left(dots, (new_dot, 0, 0))\n",
    "    bisect.insort_left(dots, (new_dot, 0, 0))\n",
    "    H_1 = abs(func(dots[new_index][0]) - func(dots[new_index - 1][0])) / (dots[new_index][0] - dots[new_index - 1][0])\n",
    "    H_2 = abs(func(dots[new_index + 1][0]) - func(dots[new_index][0])) / (dots[new_index + 1][0] - dots[new_index][0])\n",
    "    dots[new_index - 1] = (dots[new_index - 1][0], 0, H_1)\n",
    "    dots[new_index] = (new_dot, 0, H_2)\n",
    "    if new_index - H_max_index == 1:\n",
    "        max_value, H_max_index = max([(h, -i) for i, (x, y, h) in enumerate(dots)])\n",
    "        H_max_index = H_max_index * (-1)\n",
    "        L = 1 if dots[H_max_index][2] == 0 else tau * dots[H_max_index][2]\n",
    "    new_char_1 = (func(dots[new_index][0]) + func(dots[new_index - 1][0])) / 2 - \\\n",
    "                 L * (dots[new_index][0] - dots[new_index - 1][0])\n",
    "    new_char_2 = (func(dots[new_index][0]) + func(dots[new_index + 1][0])) / 2 - \\\n",
    "                 L * (dots[new_index + 1][0] - dots[new_index][0])\n",
    "    dots[new_index - 1] = (dots[new_index - 1][0], new_char_1, H_1)\n",
    "    dots[new_index] = (new_dot, new_char_2, H_2)\n",
    "    return ng(func, dots, counter, H_max_index, tau)\n"
   ],
   "metadata": {
    "collapsed": false,
    "pycharm": {
     "name": "#%%\n"
    }
   }
  },
  {
   "cell_type": "code",
   "execution_count": 5,
   "outputs": [],
   "source": [
    "def i_ng_1(func, dots, counter, H, tau = 2):\n",
    "    max_value, max_index = max([(y, -i) for i, (x, y) in enumerate(dots)])\n",
    "    if abs(dots[max_index][0] - dots[max_index + 1][0]) < epsilon:\n",
    "        func_values = [func(x) for (x, y) in dots]\n",
    "        return min(func_values), counter, H\n",
    "    L = 1 if H == 0 else tau * H\n",
    "    counter += 1\n",
    "    new_dot = (dots[max_index][0] + dots[max_index + 1][0]) / 2 - \\\n",
    "              (func(dots[max_index + 1][0]) - func(dots[max_index][0])) / (2 * L)\n",
    "    new_index = bisect.bisect_left(dots, (new_dot, 0))\n",
    "    bisect.insort_left(dots, (new_dot, 0))\n",
    "    new_char_1 = L * (dots[max_index][0] - dots[max_index - 1][0]) + ((func(dots[max_index][0]) - func(dots[max_index - 1][0])) ** 2) / (L * (dots[max_index][0] - dots[max_index - 1][0])) - 2 * (func(dots[max_index][0]) - func(dots[max_index - 1][0]))\n",
    "    new_char_2 = L * (dots[max_index + 1][0] - dots[max_index][0]) + ((func(dots[max_index + 1][0]) - func(dots[max_index][0])) ** 2) / (L * (dots[max_index + 1][0] - dots[max_index][0])) - 2 * (func(dots[max_index + 1][0]) - func(dots[max_index][0]))\n",
    "    dots[new_index - 1] = (dots[new_index - 1][0], new_char_1)\n",
    "    dots[new_index] = (new_dot, new_char_2)\n",
    "    H_1 = abs(func(dots[new_index][0]) - func(dots[new_index - 1][0])) / (dots[new_index][0] - dots[new_index - 1][0])\n",
    "    H_2 = abs(func(dots[new_index + 1][0]) - func(dots[new_index][0])) / (dots[new_index + 1][0] - dots[new_index][0])\n",
    "    if max(H_1, H_2) > H:\n",
    "        H = max(H_1, H_2)\n",
    "    return i_ng_1(func, dots, counter, H, tau)\n"
   ],
   "metadata": {
    "collapsed": false,
    "pycharm": {
     "name": "#%%\n"
    }
   }
  },
  {
   "cell_type": "code",
   "execution_count": 10,
   "outputs": [
    {
     "name": "stdout",
     "output_type": "stream",
     "text": [
      "1 -29763.23207421922 227\n",
      "2 -1.899599348242236 190\n",
      "3 -12.031242882934125 446\n",
      "4 -3.8504507084903694 680\n",
      "5 -1.4890720249095521 212\n",
      "6 -0.8242393171413713 197\n",
      "7 -1.6013075132043646 216\n",
      "8 -14.508007872538233 369\n",
      "9 -1.9059607612889131 191\n",
      "10 -7.916727183123053 282\n",
      "11 -1.499999990989576 554\n",
      "12 -0.9999999993865137 497\n",
      "13 -1.5874010519372086 1186\n",
      "14 -0.7886853838324217 183\n",
      "15 -0.03553390076491803 985\n",
      "16 7.515924153455886 1156\n",
      "17 7.0000343945575025 883\n",
      "18 9.545533802859057e-09 465\n",
      "19 -7.815674542778331 216\n",
      "20 -0.06349051994752021 127\n"
     ]
    }
   ],
   "source": [
    "for index, func in enumerate(test_functions):\n",
    "    a, b, L, counter = func.interval[0], func.interval[1], func.L, 0\n",
    "    epsilon = (b - a) * (10 ** -4)\n",
    "    char_a = (func.f(a) + func.f(b)) / 2 - L * (b - a) / 2\n",
    "    dots = [(a, char_a), (b, float(\"inf\"))]\n",
    "    minval, count = na(func.f, dots, L, counter)\n",
    "    print(index + 1, minval, count)"
   ],
   "metadata": {
    "collapsed": false,
    "pycharm": {
     "name": "#%%\n"
    }
   }
  },
  {
   "cell_type": "code",
   "execution_count": 11,
   "outputs": [
    {
     "ename": "KeyboardInterrupt",
     "evalue": "",
     "output_type": "error",
     "traceback": [
      "\u001B[0;31m---------------------------------------------------------------------------\u001B[0m",
      "\u001B[0;31mKeyboardInterrupt\u001B[0m                         Traceback (most recent call last)",
      "Input \u001B[0;32mIn [11]\u001B[0m, in \u001B[0;36m<module>\u001B[0;34m\u001B[0m\n\u001B[1;32m     11\u001B[0m \u001B[38;5;28;01mfor\u001B[39;00m i \u001B[38;5;129;01min\u001B[39;00m x_arr:\n\u001B[1;32m     12\u001B[0m     y\u001B[38;5;241m.\u001B[39mappend(func\u001B[38;5;241m.\u001B[39mf(i))\n\u001B[0;32m---> 13\u001B[0m     og\u001B[38;5;241m.\u001B[39mappend(\u001B[43mF\u001B[49m\u001B[43m(\u001B[49m\u001B[43mfunc\u001B[49m\u001B[38;5;241;43m.\u001B[39;49m\u001B[43mf\u001B[49m\u001B[43m,\u001B[49m\u001B[43m \u001B[49m\u001B[43mdots\u001B[49m\u001B[43m,\u001B[49m\u001B[43m \u001B[49m\u001B[43mL\u001B[49m\u001B[43m,\u001B[49m\u001B[43m \u001B[49m\u001B[43mi\u001B[49m\u001B[43m)\u001B[49m)\n\u001B[1;32m     14\u001B[0m xarrays\u001B[38;5;241m.\u001B[39mappend(x_arr)\n\u001B[1;32m     15\u001B[0m yarrays\u001B[38;5;241m.\u001B[39mappend(y)\n",
      "Input \u001B[0;32mIn [2]\u001B[0m, in \u001B[0;36mF\u001B[0;34m(func, dots, L, x)\u001B[0m\n\u001B[1;32m      1\u001B[0m \u001B[38;5;28;01mdef\u001B[39;00m \u001B[38;5;21mF\u001B[39m(func, dots, L, x):\n\u001B[0;32m----> 2\u001B[0m     f_s \u001B[38;5;241m=\u001B[39m [func(i) \u001B[38;5;241m-\u001B[39m L \u001B[38;5;241m*\u001B[39m np\u001B[38;5;241m.\u001B[39mabs(x \u001B[38;5;241m-\u001B[39m i) \u001B[38;5;28;01mfor\u001B[39;00m (i, j) \u001B[38;5;129;01min\u001B[39;00m dots]\n\u001B[1;32m      3\u001B[0m     \u001B[38;5;28;01mreturn\u001B[39;00m \u001B[38;5;28mmax\u001B[39m(f_s)\n",
      "Input \u001B[0;32mIn [2]\u001B[0m, in \u001B[0;36m<listcomp>\u001B[0;34m(.0)\u001B[0m\n\u001B[1;32m      1\u001B[0m \u001B[38;5;28;01mdef\u001B[39;00m \u001B[38;5;21mF\u001B[39m(func, dots, L, x):\n\u001B[0;32m----> 2\u001B[0m     f_s \u001B[38;5;241m=\u001B[39m [\u001B[43mfunc\u001B[49m\u001B[43m(\u001B[49m\u001B[43mi\u001B[49m\u001B[43m)\u001B[49m \u001B[38;5;241m-\u001B[39m L \u001B[38;5;241m*\u001B[39m np\u001B[38;5;241m.\u001B[39mabs(x \u001B[38;5;241m-\u001B[39m i) \u001B[38;5;28;01mfor\u001B[39;00m (i, j) \u001B[38;5;129;01min\u001B[39;00m dots]\n\u001B[1;32m      3\u001B[0m     \u001B[38;5;28;01mreturn\u001B[39;00m \u001B[38;5;28mmax\u001B[39m(f_s)\n",
      "File \u001B[0;32m~/code/metopt/test_functions.py:34\u001B[0m, in \u001B[0;36mf_03\u001B[0;34m(x)\u001B[0m\n\u001B[1;32m     33\u001B[0m \u001B[38;5;28;01mdef\u001B[39;00m \u001B[38;5;21mf_03\u001B[39m(x):\n\u001B[0;32m---> 34\u001B[0m     \u001B[38;5;28;01mreturn\u001B[39;00m \u001B[38;5;241m-\u001B[39m\u001B[38;5;28;43msum\u001B[39;49m\u001B[43m(\u001B[49m\u001B[43mk\u001B[49m\u001B[43m \u001B[49m\u001B[38;5;241;43m*\u001B[39;49m\u001B[43m \u001B[49m\u001B[43mnp\u001B[49m\u001B[38;5;241;43m.\u001B[39;49m\u001B[43msin\u001B[49m\u001B[43m(\u001B[49m\u001B[43m(\u001B[49m\u001B[43mk\u001B[49m\u001B[43m \u001B[49m\u001B[38;5;241;43m+\u001B[39;49m\u001B[43m \u001B[49m\u001B[38;5;241;43m1\u001B[39;49m\u001B[43m)\u001B[49m\u001B[43m \u001B[49m\u001B[38;5;241;43m*\u001B[39;49m\u001B[43m \u001B[49m\u001B[43mx\u001B[49m\u001B[43m \u001B[49m\u001B[38;5;241;43m+\u001B[39;49m\u001B[43m \u001B[49m\u001B[43mk\u001B[49m\u001B[43m)\u001B[49m\u001B[43m \u001B[49m\u001B[38;5;28;43;01mfor\u001B[39;49;00m\u001B[43m \u001B[49m\u001B[43mk\u001B[49m\u001B[43m \u001B[49m\u001B[38;5;129;43;01min\u001B[39;49;00m\u001B[43m \u001B[49m\u001B[38;5;28;43mrange\u001B[39;49m\u001B[43m(\u001B[49m\u001B[38;5;241;43m1\u001B[39;49m\u001B[43m,\u001B[49m\u001B[43m \u001B[49m\u001B[38;5;241;43m6\u001B[39;49m\u001B[43m)\u001B[49m\u001B[43m)\u001B[49m\n",
      "File \u001B[0;32m~/code/metopt/test_functions.py:34\u001B[0m, in \u001B[0;36m<genexpr>\u001B[0;34m(.0)\u001B[0m\n\u001B[1;32m     33\u001B[0m \u001B[38;5;28;01mdef\u001B[39;00m \u001B[38;5;21mf_03\u001B[39m(x):\n\u001B[0;32m---> 34\u001B[0m     \u001B[38;5;28;01mreturn\u001B[39;00m \u001B[38;5;241m-\u001B[39m\u001B[38;5;28msum\u001B[39m(k \u001B[38;5;241m*\u001B[39m np\u001B[38;5;241m.\u001B[39msin((k \u001B[38;5;241m+\u001B[39m \u001B[38;5;241m1\u001B[39m) \u001B[38;5;241m*\u001B[39m x \u001B[38;5;241m+\u001B[39m k) \u001B[38;5;28;01mfor\u001B[39;00m k \u001B[38;5;129;01min\u001B[39;00m \u001B[38;5;28mrange\u001B[39m(\u001B[38;5;241m1\u001B[39m, \u001B[38;5;241m6\u001B[39m))\n",
      "\u001B[0;31mKeyboardInterrupt\u001B[0m: "
     ]
    }
   ],
   "source": [
    "xarrays, yarrays, ogarrays = [], [], []\n",
    "for index, func in enumerate(test_functions):\n",
    "    x_arr = np.linspace(func.interval[0], func.interval[1], 1200)\n",
    "    y = []\n",
    "    og = []\n",
    "    a, b, L, counter = func.interval[0], func.interval[1], func.L, 0\n",
    "    epsilon = (b - a) * (10 ** -4)\n",
    "    char_a = (func.f(a) + func.f(b)) / 2 - L * (b - a) / 2\n",
    "    dots = [(a, char_a), (b, float(\"inf\"))]\n",
    "    minval, count = na(func.f, dots, L, counter)\n",
    "    for i in x_arr:\n",
    "        y.append(func.f(i))\n",
    "        og.append(F(func.f, dots, L, i))\n",
    "    xarrays.append(x_arr)\n",
    "    yarrays.append(y)\n",
    "    ogarrays.append(og)"
   ],
   "metadata": {
    "collapsed": false,
    "pycharm": {
     "name": "#%%\n"
    }
   }
  },
  {
   "cell_type": "code",
   "execution_count": null,
   "outputs": [],
   "source": [
    " for index in range(20):\n",
    "    plt.plot(xarrays[index], yarrays[index])\n",
    "    plt.plot(xarrays[index], ogarrays[index])\n",
    "    plt.show()"
   ],
   "metadata": {
    "collapsed": false,
    "pycharm": {
     "name": "#%%\n"
    }
   }
  },
  {
   "cell_type": "code",
   "execution_count": 18,
   "outputs": [
    {
     "name": "stdout",
     "output_type": "stream",
     "text": [
      "1 -29763.232332995936 254\n",
      "2 -1.8995992895448253 482\n"
     ]
    },
    {
     "ename": "IndexError",
     "evalue": "list index out of range",
     "output_type": "error",
     "traceback": [
      "\u001B[0;31m---------------------------------------------------------------------------\u001B[0m",
      "\u001B[0;31mIndexError\u001B[0m                                Traceback (most recent call last)",
      "Input \u001B[0;32mIn [18]\u001B[0m, in \u001B[0;36m<module>\u001B[0;34m\u001B[0m\n\u001B[1;32m      7\u001B[0m char_a \u001B[38;5;241m=\u001B[39m (func\u001B[38;5;241m.\u001B[39mf(a) \u001B[38;5;241m+\u001B[39m func\u001B[38;5;241m.\u001B[39mf(b)) \u001B[38;5;241m/\u001B[39m \u001B[38;5;241m2\u001B[39m \u001B[38;5;241m-\u001B[39m L \u001B[38;5;241m*\u001B[39m (b \u001B[38;5;241m-\u001B[39m a) \u001B[38;5;241m/\u001B[39m \u001B[38;5;241m2\u001B[39m\n\u001B[1;32m      8\u001B[0m dots \u001B[38;5;241m=\u001B[39m [(a, char_a, H), (b, \u001B[38;5;28mfloat\u001B[39m(\u001B[38;5;124m\"\u001B[39m\u001B[38;5;124minf\u001B[39m\u001B[38;5;124m\"\u001B[39m), \u001B[38;5;241m-\u001B[39m\u001B[38;5;28mfloat\u001B[39m(\u001B[38;5;124m\"\u001B[39m\u001B[38;5;124minf\u001B[39m\u001B[38;5;124m\"\u001B[39m))]\n\u001B[0;32m----> 9\u001B[0m minval, count, H \u001B[38;5;241m=\u001B[39m \u001B[43mng\u001B[49m\u001B[43m(\u001B[49m\u001B[43mfunc\u001B[49m\u001B[38;5;241;43m.\u001B[39;49m\u001B[43mf\u001B[49m\u001B[43m,\u001B[49m\u001B[43m \u001B[49m\u001B[43mdots\u001B[49m\u001B[43m,\u001B[49m\u001B[43m \u001B[49m\u001B[43mcounter\u001B[49m\u001B[43m,\u001B[49m\u001B[43m \u001B[49m\u001B[38;5;241;43m0\u001B[39;49m\u001B[43m,\u001B[49m\u001B[43m \u001B[49m\u001B[43mtau\u001B[49m\u001B[43m)\u001B[49m\n\u001B[1;32m     10\u001B[0m \u001B[38;5;28mprint\u001B[39m(index \u001B[38;5;241m+\u001B[39m \u001B[38;5;241m1\u001B[39m, minval, count)\n",
      "Input \u001B[0;32mIn [4]\u001B[0m, in \u001B[0;36mng\u001B[0;34m(func, dots, counter, H_max_index, tau)\u001B[0m\n\u001B[1;32m     24\u001B[0m dots[new_index \u001B[38;5;241m-\u001B[39m \u001B[38;5;241m1\u001B[39m] \u001B[38;5;241m=\u001B[39m (dots[new_index \u001B[38;5;241m-\u001B[39m \u001B[38;5;241m1\u001B[39m][\u001B[38;5;241m0\u001B[39m], new_char_1, H_1)\n\u001B[1;32m     25\u001B[0m dots[new_index] \u001B[38;5;241m=\u001B[39m (new_dot, new_char_2, H_2)\n\u001B[0;32m---> 26\u001B[0m \u001B[38;5;28;01mreturn\u001B[39;00m \u001B[43mng\u001B[49m\u001B[43m(\u001B[49m\u001B[43mfunc\u001B[49m\u001B[43m,\u001B[49m\u001B[43m \u001B[49m\u001B[43mdots\u001B[49m\u001B[43m,\u001B[49m\u001B[43m \u001B[49m\u001B[43mcounter\u001B[49m\u001B[43m,\u001B[49m\u001B[43m \u001B[49m\u001B[43mH_max_index\u001B[49m\u001B[43m,\u001B[49m\u001B[43m \u001B[49m\u001B[43mtau\u001B[49m\u001B[43m)\u001B[49m\n",
      "Input \u001B[0;32mIn [4]\u001B[0m, in \u001B[0;36mng\u001B[0;34m(func, dots, counter, H_max_index, tau)\u001B[0m\n\u001B[1;32m     24\u001B[0m dots[new_index \u001B[38;5;241m-\u001B[39m \u001B[38;5;241m1\u001B[39m] \u001B[38;5;241m=\u001B[39m (dots[new_index \u001B[38;5;241m-\u001B[39m \u001B[38;5;241m1\u001B[39m][\u001B[38;5;241m0\u001B[39m], new_char_1, H_1)\n\u001B[1;32m     25\u001B[0m dots[new_index] \u001B[38;5;241m=\u001B[39m (new_dot, new_char_2, H_2)\n\u001B[0;32m---> 26\u001B[0m \u001B[38;5;28;01mreturn\u001B[39;00m \u001B[43mng\u001B[49m\u001B[43m(\u001B[49m\u001B[43mfunc\u001B[49m\u001B[43m,\u001B[49m\u001B[43m \u001B[49m\u001B[43mdots\u001B[49m\u001B[43m,\u001B[49m\u001B[43m \u001B[49m\u001B[43mcounter\u001B[49m\u001B[43m,\u001B[49m\u001B[43m \u001B[49m\u001B[43mH_max_index\u001B[49m\u001B[43m,\u001B[49m\u001B[43m \u001B[49m\u001B[43mtau\u001B[49m\u001B[43m)\u001B[49m\n",
      "Input \u001B[0;32mIn [4]\u001B[0m, in \u001B[0;36mng\u001B[0;34m(func, dots, counter, H_max_index, tau)\u001B[0m\n\u001B[1;32m     11\u001B[0m bisect\u001B[38;5;241m.\u001B[39minsort_left(dots, (new_dot, \u001B[38;5;241m0\u001B[39m, \u001B[38;5;241m0\u001B[39m))\n\u001B[1;32m     12\u001B[0m H_1 \u001B[38;5;241m=\u001B[39m \u001B[38;5;28mabs\u001B[39m(func(dots[new_index][\u001B[38;5;241m0\u001B[39m]) \u001B[38;5;241m-\u001B[39m func(dots[new_index \u001B[38;5;241m-\u001B[39m \u001B[38;5;241m1\u001B[39m][\u001B[38;5;241m0\u001B[39m])) \u001B[38;5;241m/\u001B[39m (dots[new_index][\u001B[38;5;241m0\u001B[39m] \u001B[38;5;241m-\u001B[39m dots[new_index \u001B[38;5;241m-\u001B[39m \u001B[38;5;241m1\u001B[39m][\u001B[38;5;241m0\u001B[39m])\n\u001B[0;32m---> 13\u001B[0m H_2 \u001B[38;5;241m=\u001B[39m \u001B[38;5;28mabs\u001B[39m(func(\u001B[43mdots\u001B[49m\u001B[43m[\u001B[49m\u001B[43mnew_index\u001B[49m\u001B[43m \u001B[49m\u001B[38;5;241;43m+\u001B[39;49m\u001B[43m \u001B[49m\u001B[38;5;241;43m1\u001B[39;49m\u001B[43m]\u001B[49m[\u001B[38;5;241m0\u001B[39m]) \u001B[38;5;241m-\u001B[39m func(dots[new_index][\u001B[38;5;241m0\u001B[39m])) \u001B[38;5;241m/\u001B[39m (dots[new_index \u001B[38;5;241m+\u001B[39m \u001B[38;5;241m1\u001B[39m][\u001B[38;5;241m0\u001B[39m] \u001B[38;5;241m-\u001B[39m dots[new_index][\u001B[38;5;241m0\u001B[39m])\n\u001B[1;32m     14\u001B[0m dots[new_index \u001B[38;5;241m-\u001B[39m \u001B[38;5;241m1\u001B[39m] \u001B[38;5;241m=\u001B[39m (dots[new_index \u001B[38;5;241m-\u001B[39m \u001B[38;5;241m1\u001B[39m][\u001B[38;5;241m0\u001B[39m], \u001B[38;5;241m0\u001B[39m, H_1)\n\u001B[1;32m     15\u001B[0m dots[new_index] \u001B[38;5;241m=\u001B[39m (new_dot, \u001B[38;5;241m0\u001B[39m, H_2)\n",
      "\u001B[0;31mIndexError\u001B[0m: list index out of range"
     ]
    }
   ],
   "source": [
    "for index, func in enumerate(test_functions):\n",
    "    tau = 4\n",
    "    a, b, counter = func.interval[0], func.interval[1], 0\n",
    "    H = abs(func.f(b) - func.f(a)) / (b - a)\n",
    "    L = 1 if H == 0 else tau * H\n",
    "    epsilon = (b - a) * (10 ** -4)\n",
    "    char_a = (func.f(a) + func.f(b)) / 2 - L * (b - a) / 2\n",
    "    dots = [(a, char_a, H), (b, float(\"inf\"), -float(\"inf\"))]\n",
    "    minval, count, H = ng(func.f, dots, counter, 0, tau)\n",
    "    print(index + 1, minval, count)"
   ],
   "metadata": {
    "collapsed": false,
    "pycharm": {
     "name": "#%%\n"
    }
   }
  },
  {
   "cell_type": "code",
   "execution_count": null,
   "outputs": [],
   "source": [
    "xarrays, yarrays, ogarrays = [], [], []\n",
    "for index, func in enumerate(test_functions):\n",
    "    x_arr = np.linspace(func.interval[0], func.interval[1], 1200)\n",
    "    y, og = [], []\n",
    "    tau = 2\n",
    "    a, b, counter = func.interval[0], func.interval[1], 0\n",
    "    H = abs(func.f(b) - func.f(a)) / (b - a)\n",
    "    L = 1 if H == 0 else tau * H\n",
    "    epsilon = (b - a) * (10 ** -4)\n",
    "    char_a = (func.f(a) + func.f(b)) / 2 - L * (b - a) / 2\n",
    "    dots = [(a, char_a), (b, float(\"inf\"))]\n",
    "    minval, count, H = ng(func.f, dots, counter, H, tau)\n",
    "    for i in x_arr:\n",
    "        y.append(func.f(i))\n",
    "        og.append(F(func.f, dots, H, i))\n",
    "    xarrays.append(x_arr)\n",
    "    yarrays.append(y)\n",
    "    ogarrays.append(og)"
   ],
   "metadata": {
    "collapsed": false,
    "pycharm": {
     "name": "#%%\n"
    }
   }
  },
  {
   "cell_type": "code",
   "execution_count": null,
   "outputs": [],
   "source": [
    " for index in range(20):\n",
    "    plt.plot(xarrays[index], yarrays[index])\n",
    "    plt.plot(xarrays[index], ogarrays[index])\n",
    "    plt.show()"
   ],
   "metadata": {
    "collapsed": false,
    "pycharm": {
     "name": "#%%\n"
    }
   }
  },
  {
   "cell_type": "code",
   "execution_count": null,
   "outputs": [],
   "source": [
    "for index, func in enumerate(test_functions):\n",
    "    tau = 1\n",
    "    a, b, counter = func.interval[0], func.interval[1], 0\n",
    "    H = abs(func.f(b) - func.f(a)) / (b - a)\n",
    "    L = 1 if H == 0 else tau * H\n",
    "    epsilon = (b - a) * (10 ** -4)\n",
    "    char_a = L * (b - a) + ((func.f(b) - func.f(a)) ** 2) / (L * (b - a)) - 2 * (func.f(b) - func.f(a))\n",
    "    dots = [(a, char_a), (b, -float(\"inf\"))]\n",
    "    maxval, count, H = i_ng_1(func.f, dots, counter, H, tau)\n",
    "    print(index + 1, maxval, count)"
   ],
   "metadata": {
    "collapsed": false,
    "pycharm": {
     "name": "#%%\n"
    }
   }
  },
  {
   "cell_type": "code",
   "execution_count": null,
   "outputs": [],
   "source": [
    "xarrays, yarrays, ogarrays = [], [], []\n",
    "for index, func in enumerate(test_functions):\n",
    "    x_arr = np.linspace(func.interval[0], func.interval[1], 1200)\n",
    "    y, og = [], []\n",
    "    tau = 1.5\n",
    "    a, b, counter = func.interval[0], func.interval[1], 0\n",
    "    H = abs(func.f(b) - func.f(a)) / (b - a)\n",
    "    L = 1 if H == 0 else tau * H\n",
    "    epsilon = (b - a) * (10 ** -4)\n",
    "    char_a = L * (b - a) + ((func.f(b) - func.f(a)) ** 2) / (L * (b - a)) - 2 * (func.f(b) - func.f(a))\n",
    "    dots = [(a, char_a), (b, -float(\"inf\"))]\n",
    "    maxval, count, H = i_ng_1(func.f, dots, counter, H, tau)\n",
    "    for i in x_arr:\n",
    "        y.append(func.f(i))\n",
    "        og.append(F(func.f, dots, H, i))\n",
    "    xarrays.append(x_arr)\n",
    "    yarrays.append(y)\n",
    "    ogarrays.append(og)"
   ],
   "metadata": {
    "collapsed": false,
    "pycharm": {
     "name": "#%%\n"
    }
   }
  },
  {
   "cell_type": "code",
   "execution_count": null,
   "outputs": [],
   "source": [
    " for index in range(20):\n",
    "    plt.plot(xarrays[index], yarrays[index])\n",
    "    plt.plot(xarrays[index], ogarrays[index])\n",
    "    plt.show()"
   ],
   "metadata": {
    "collapsed": false,
    "pycharm": {
     "name": "#%%\n"
    }
   }
  }
 ],
 "metadata": {
  "kernelspec": {
   "display_name": "Python 3",
   "language": "python",
   "name": "python3"
  },
  "language_info": {
   "codemirror_mode": {
    "name": "ipython",
    "version": 2
   },
   "file_extension": ".py",
   "mimetype": "text/x-python",
   "name": "python",
   "nbconvert_exporter": "python",
   "pygments_lexer": "ipython2",
   "version": "2.7.6"
  }
 },
 "nbformat": 4,
 "nbformat_minor": 0
}