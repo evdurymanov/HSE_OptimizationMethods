{
 "cells": [
  {
   "cell_type": "code",
   "execution_count": 7,
   "metadata": {
    "collapsed": true
   },
   "outputs": [],
   "source": [
    "import numpy as np\n",
    "from sortedcontainers import SortedList\n",
    "import matplotlib.pyplot as plt\n",
    "import sys\n",
    "\n",
    "rec = 15000\n",
    "sys.setrecursionlimit(rec)"
   ]
  },
  {
   "cell_type": "code",
   "execution_count": 2,
   "outputs": [],
   "source": [
    "def f1(x, eps):\n",
    "    return x / 100 - np.sin(x) / x"
   ],
   "metadata": {
    "collapsed": false,
    "pycharm": {
     "name": "#%%\n"
    }
   }
  },
  {
   "cell_type": "code",
   "execution_count": 3,
   "outputs": [],
   "source": [
    "def f2(x, eps):\n",
    "    if x!= 0:\n",
    "        return np.sqrt(1 + eps - (np.sin(x) / x))\n",
    "    else:\n",
    "        return np.sqrt(eps)"
   ],
   "metadata": {
    "collapsed": false,
    "pycharm": {
     "name": "#%%\n"
    }
   }
  },
  {
   "cell_type": "code",
   "execution_count": null,
   "outputs": [],
   "source": [
    "def algo(func, L, massiv, eps, counter):\n",
    "    new_x = min(massiv , key = lambda f: f[1])\n",
    "    massiv.remove(new_x)\n",
    "    x, y = new_x[0], new_x[1]\n",
    "    if (func(x, eps) - y) < pointstop:\n",
    "        return func(x, eps), counter\n",
    "    delta = (1 / (2 * L)) * (func(x, eps) - y)\n",
    "    x_1 = x - delta\n",
    "    x_2 = x + delta\n",
    "    y_new = (func(x, eps) + y) / 2\n",
    "    keys = [r[0] for r in massiv]\n",
    "    massiv.append((x_1, y_new)), massiv.append((x_2, y_new))\n",
    "    massiv.sort(key = lambda f: f[0])\n",
    "    counter += 1\n",
    "\n",
    "    #print(func(x, eps))\n",
    "    return algo(func, L, massiv, eps, counter)\n",
    "\n",
    "\n",
    "\n"
   ],
   "metadata": {
    "collapsed": false,
    "pycharm": {
     "name": "#%%\n"
    }
   }
  },
  {
   "cell_type": "code",
   "execution_count": 4,
   "outputs": [],
   "source": [
    "a = -10\n",
    "b = 10\n",
    "L = 10\n",
    "pointstop = 0.01\n",
    "eps = 0\n",
    "func = f1"
   ],
   "metadata": {
    "collapsed": false,
    "pycharm": {
     "name": "#%%\n"
    }
   }
  },
  {
   "cell_type": "code",
   "execution_count": null,
   "outputs": [],
   "source": [
    "if b < a:\n",
    "    a, b = b, a\n",
    "L = abs(func(b) - func(a)) / b - a\n",
    "answer = []\n",
    "counters = []\n",
    "massiv = []\n",
    "counter = 0\n",
    "x_1 = (a + b) / 2 + (func(a, eps) - func(b, eps)) / (2 * L)\n",
    "y_1 = (func(a, eps) + func(b, eps)) / 2 + ((a - b) / 2 ) * L\n",
    "massiv.append((x_1, y_1))\n",
    "result = algo(func, L, massiv, eps, counter)\n"
   ],
   "metadata": {
    "collapsed": false,
    "pycharm": {
     "name": "#%%\n"
    }
   }
  }
 ],
 "metadata": {
  "kernelspec": {
   "display_name": "Python 3",
   "language": "python",
   "name": "python3"
  },
  "language_info": {
   "codemirror_mode": {
    "name": "ipython",
    "version": 2
   },
   "file_extension": ".py",
   "mimetype": "text/x-python",
   "name": "python",
   "nbconvert_exporter": "python",
   "pygments_lexer": "ipython2",
   "version": "2.7.6"
  }
 },
 "nbformat": 4,
 "nbformat_minor": 0
}