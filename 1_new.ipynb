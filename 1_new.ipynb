{
 "cells": [
  {
   "cell_type": "code",
   "execution_count": 150,
   "metadata": {
    "pycharm": {
     "name": "#%%\n"
    }
   },
   "outputs": [],
   "source": [
    "import numpy as np\n",
    "import matplotlib.pyplot as plt\n",
    "import sys\n",
    "\n",
    "rec = 15000\n",
    "sys.setrecursionlimit(rec)"
   ]
  },
  {
   "cell_type": "code",
   "execution_count": 106,
   "metadata": {
    "pycharm": {
     "name": "#%%\n"
    }
   },
   "outputs": [],
   "source": [
    "def f1(x, eps):\n",
    "    return x / 100 - np.sin(x) / x"
   ]
  },
  {
   "cell_type": "code",
   "execution_count": 183,
   "metadata": {
    "pycharm": {
     "name": "#%%\n"
    }
   },
   "outputs": [],
   "source": [
    "def f2(x, eps):\n",
    "    if x!= 0:\n",
    "        return np.sqrt(1 + eps - (np.sin(x) / x))\n",
    "    else:\n",
    "        return np.sqrt(eps)"
   ]
  },
  {
   "cell_type": "code",
   "execution_count": 170,
   "metadata": {
    "pycharm": {
     "name": "#%%\n"
    }
   },
   "outputs": [],
   "source": [
    "def algo(func, L, massiv, eps, counter):\n",
    "    new_x = min(massiv , key = lambda f: f[1])\n",
    "    massiv.remove(new_x)\n",
    "    x, y = new_x[0], new_x[1]\n",
    "    if (func(x, eps) - y) < pointstop:\n",
    "        return func(x, eps), counter\n",
    "    delta = (1 / (2 * L)) * (func(x, eps) - y)\n",
    "    x_1 = x - delta\n",
    "    x_2 = x + delta\n",
    "    y_new = (func(x, eps) + y) / 2\n",
    "    massiv.append((x_1, y_new)), massiv.append((x_2, y_new))\n",
    "    counter += 1\n",
    "    #print(func(x, eps))\n",
    "    return algo(func, L, massiv, eps, counter)\n",
    "\n",
    "\n",
    "\n",
    "\n"
   ]
  },
  {
   "cell_type": "code",
   "execution_count": 171,
   "metadata": {
    "pycharm": {
     "name": "#%%\n"
    }
   },
   "outputs": [],
   "source": [
    "a = -10\n",
    "b = 10\n",
    "L = 10\n",
    "pointstop = 0.01\n",
    "eps = 0\n",
    "func = f1"
   ]
  },
  {
   "cell_type": "markdown",
   "metadata": {
    "pycharm": {
     "name": "#%% md\n"
    }
   },
   "source": [
    "Cначала рассмотрим функцию f1: будем изменять у нее L(с каким-то разумным критерием остановки) и будем глядеть, как от этого изменится минимум."
   ]
  },
  {
   "cell_type": "code",
   "execution_count": 172,
   "metadata": {
    "pycharm": {
     "name": "#%%\n"
    }
   },
   "outputs": [
    {
     "data": {
      "text/plain": [
       "[<matplotlib.lines.Line2D at 0x7feab1290580>]"
      ]
     },
     "execution_count": 172,
     "metadata": {},
     "output_type": "execute_result"
    },
    {
     "data": {
      "image/png": "[encoded data removed]",
      "text/plain": [
       "<Figure size 432x288 with 1 Axes>"
      ]
     },
     "metadata": {
      "needs_background": "light"
     },
     "output_type": "display_data"
    }
   ],
   "source": [
    "Larray = np.arange(1, 30)\n",
    "answer = []\n",
    "counters = []\n",
    "for L in Larray:\n",
    "    massiv = []\n",
    "    counter = 0\n",
    "    x_1 = (a + b) / 2 + (func(a, eps) - func(b, eps)) / (2 * L)\n",
    "    y_1 = (func(a, eps) + func(b, eps)) / 2 + ((a - b) / 2 ) * L\n",
    "    massiv.append((x_1, y_1))\n",
    "    result = algo(func, L, massiv, eps, counter)\n",
    "    answer.append(result[0])\n",
    "    counters.append(result[1])\n",
    "plt.plot(Larray, answer)"
   ]
  },
  {
   "cell_type": "markdown",
   "metadata": {
    "pycharm": {
     "name": "#%% md\n"
    }
   },
   "source": [
    "Как видно по графику, в целом L не сильно влияет на значение минимума, однако эмпирически я заметил, что с большим L программа считается дольше. Построим график зависимости количества шагов алгоритма от L."
   ]
  },
  {
   "cell_type": "code",
   "execution_count": 138,
   "metadata": {
    "pycharm": {
     "name": "#%%\n"
    }
   },
   "outputs": [
    {
     "data": {
      "text/plain": [
       "[<matplotlib.lines.Line2D at 0x7fea91ade2b0>]"
      ]
     },
     "execution_count": 138,
     "metadata": {},
     "output_type": "execute_result"
    },
    {
     "data": {
      "image/png": "[encoded data removed]",
      "text/plain": [
       "<Figure size 432x288 with 1 Axes>"
      ]
     },
     "metadata": {
      "needs_background": "light"
     },
     "output_type": "display_data"
    }
   ],
   "source": [
    "plt.plot(Larray, counters)"
   ]
  },
  {
   "cell_type": "markdown",
   "metadata": {
    "pycharm": {
     "name": "#%% md\n"
    }
   },
   "source": [
    "Видим линейный рост количества шагов алгоритма от L"
   ]
  },
  {
   "cell_type": "markdown",
   "metadata": {
    "pycharm": {
     "name": "#%% md\n"
    }
   },
   "source": [
    "Теперь перейдем к функции f2, у нее есть параметр eps, попытаемся поиграться с eps и L."
   ]
  },
  {
   "cell_type": "code",
   "execution_count": 188,
   "metadata": {
    "pycharm": {
     "name": "#%%\n"
    }
   },
   "outputs": [],
   "source": [
    "eps = 1\n",
    "func = f2\n",
    "L = 0.5\n",
    "pointstop = 0.01"
   ]
  },
  {
   "cell_type": "code",
   "execution_count": 192,
   "metadata": {
    "pycharm": {
     "name": "#%%\n"
    }
   },
   "outputs": [
    {
     "data": {
      "text/plain": [
       "[<matplotlib.lines.Line2D at 0x7fead101f9a0>]"
      ]
     },
     "execution_count": 192,
     "metadata": {},
     "output_type": "execute_result"
    },
    {
     "data": {
      "image/png": "[encoded data removed]",
      "text/plain": [
       "<Figure size 432x288 with 1 Axes>"
      ]
     },
     "metadata": {
      "needs_background": "light"
     },
     "output_type": "display_data"
    }
   ],
   "source": [
    "epsilons = np.arange(0, 100)\n",
    "answer = []\n",
    "counters = []\n",
    "for eps in epsilons:\n",
    "    massiv = []\n",
    "    counter = 0\n",
    "    x_1 = (a + b) / 2 + (func(a, eps) - func(b, eps)) / (2 * L)\n",
    "    y_1 = (func(a, eps) + func(b, eps)) / 2 + ((a - b) / 2 ) * L\n",
    "    massiv.append((x_1, y_1))\n",
    "    result = algo(func, L, massiv, eps, counter)\n",
    "    answer.append(result[0])\n",
    "    counters.append(result[1])\n",
    "plt.plot(epsilons, answer)"
   ]
  },
  {
   "cell_type": "markdown",
   "metadata": {
    "pycharm": {
     "name": "#%% md\n"
    }
   },
   "source": [
    "Как мы видим, для eps которые не нарушают положительность подкоренного выражения все считается отлично, значит мы можем зафиксировать какой-то один eps и попробовать поиграть с L."
   ]
  },
  {
   "cell_type": "code",
   "execution_count": 196,
   "metadata": {
    "pycharm": {
     "name": "#%%\n"
    }
   },
   "outputs": [
    {
     "data": {
      "text/plain": [
       "[<matplotlib.lines.Line2D at 0x7fea91d03520>]"
      ]
     },
     "execution_count": 196,
     "metadata": {},
     "output_type": "execute_result"
    },
    {
     "data": {
      "image/png": "[encoded data removed]",
      "text/plain": [
       "<Figure size 432x288 with 1 Axes>"
      ]
     },
     "metadata": {
      "needs_background": "light"
     },
     "output_type": "display_data"
    }
   ],
   "source": [
    "eps = 1\n",
    "Larray = np.arange(1, 100)\n",
    "answer = []\n",
    "counters = []\n",
    "for L in Larray:\n",
    "    massiv = []\n",
    "    counter = 0\n",
    "    x_1 = (a + b) / 2 + (func(a, eps) - func(b, eps)) / (2 * L)\n",
    "    y_1 = (func(a, eps) + func(b, eps)) / 2 + ((a - b) / 2 ) * L\n",
    "    massiv.append((x_1, y_1))\n",
    "    result = algo(func, L, massiv, eps, counter)\n",
    "    answer.append(result[0])\n",
    "    counters.append(result[1])\n",
    "plt.plot(Larray, answer)"
   ]
  },
  {
   "cell_type": "code",
   "execution_count": 197,
   "metadata": {
    "pycharm": {
     "name": "#%%\n"
    }
   },
   "outputs": [
    {
     "data": {
      "text/plain": [
       "[<matplotlib.lines.Line2D at 0x7fea91e44ee0>]"
      ]
     },
     "execution_count": 197,
     "metadata": {},
     "output_type": "execute_result"
    },
    {
     "data": {
      "image/png": "[encoded data removed]",
      "text/plain": [
       "<Figure size 432x288 with 1 Axes>"
      ]
     },
     "metadata": {
      "needs_background": "light"
     },
     "output_type": "display_data"
    }
   ],
   "source": [
    "plt.plot(Larray, counters)"
   ]
  },
  {
   "cell_type": "markdown",
   "metadata": {
    "pycharm": {
     "name": "#%% md\n"
    }
   },
   "source": [
    "Наблюдаем независимось результата от L, при этом наблюдается линейный рост числа итераций алгоритма в зависимости от L."
   ]
  },
  {
   "cell_type": "code",
   "execution_count": null,
   "metadata": {
    "pycharm": {
     "name": "#%%\n"
    }
   },
   "outputs": [],
   "source": []
  }
 ],
 "metadata": {
  "kernelspec": {
   "display_name": "Python 3",
   "language": "python",
   "name": "python3"
  },
  "language_info": {
   "codemirror_mode": {
    "name": "ipython",
    "version": 3
   },
   "file_extension": ".py",
   "mimetype": "text/x-python",
   "name": "python",
   "nbconvert_exporter": "python",
   "pygments_lexer": "ipython3",
   "version": "3.8.8"
  }
 },
 "nbformat": 4,
 "nbformat_minor": 1
}